{
 "cells": [
  {
   "cell_type": "markdown",
   "id": "f5d6cd30-c913-488b-b03e-f1a774a83a89",
   "metadata": {},
   "source": [
    "#### Problem statement: Develop a model that is able to process the feed/stream from a mounted/fixed camera(like CCTV) and able to detect in real time if the camera is pointed somewhere else. To implement this you may record a video from your mobile camera and then change is to some other angle after a while. Also the model should not confuse of moving people, if any, in the frame to be a valid detection\n",
    "\n",
    "#### performance metrics : binary_logloss,confusion matrix"
   ]
  },
  {
   "cell_type": "code",
   "execution_count": 2,
   "id": "15060364-c320-4a7f-8ea6-f1a5019da0ff",
   "metadata": {},
   "outputs": [],
   "source": [
    "import cv2\n",
    "import numpy as np \n",
    "import pandas as pd \n",
    "import matplotlib.pyplot as plt\n",
    "from tqdm import tqdm\n",
    "from sklearn.model_selection import train_test_split\n",
    "import imgaug.augmenters as iaa\n",
    "import tensorflow as tf\n",
    "from tensorflow.keras.models import Model \n",
    "from tensorflow.keras.layers import Conv2D,MaxPooling2D,Dropout,BatchNormalization,Input,Flatten,Dense\n",
    "from tensorflow.keras.utils import plot_model\n",
    "import seaborn as sns\n",
    "from sklearn.metrics import roc_curve,auc"
   ]
  },
  {
   "cell_type": "markdown",
   "id": "df330f58-f6e4-4f6f-ab17-7d4a9336cba6",
   "metadata": {},
   "source": [
    "### data loading"
   ]
  },
  {
   "cell_type": "code",
   "execution_count": 3,
   "id": "6645976b-f879-43e7-95cc-a7a3e4525f07",
   "metadata": {},
   "outputs": [],
   "source": [
    "## loading data\n",
    "first_cam_no = np.load('dataset_images/first_cam_no.npy')\n",
    "first_cam_yes = np.load('dataset_images/first_cam_yes.npy')\n",
    "second_cam_no = np.load('dataset_images/second_cam_no.npy')\n",
    "second_cam_yes = np.load('dataset_images/second_cam_yes.npy')\n",
    "third_cam_no = np.load('dataset_images/third_cam_no.npy')\n",
    "third_cam_yes = np.load('dataset_images/third_cam_yes.npy')\n",
    "forth_cam_no = np.load('dataset_images/forth_cam_no.npy')\n",
    "forth_cam_yes = np.load('dataset_images/forth_cam_yes.npy')\n",
    "dataset_no =  [first_cam_no,second_cam_no,third_cam_no,forth_cam_no]\n",
    "dataset_yes =  [first_cam_yes,second_cam_yes,third_cam_yes,forth_cam_yes]\n",
    "main_images = [first_cam_no[15],second_cam_no[15],third_cam_no[15],forth_cam_no[15]]"
   ]
  },
  {
   "cell_type": "code",
   "execution_count": 4,
   "id": "989c7f13-465b-4c57-9bf3-2f1f3b6ede1c",
   "metadata": {},
   "outputs": [],
   "source": [
    "def prepare(main_image,images,label):\n",
    "    final_images = np.empty_like(images)\n",
    "    #for i in tqdm(range(len(images))):\n",
    "    #    final_images[i] = main_image-images[i]\n",
    "    final_images = images\n",
    "    return final_images,np.array([label]*len(images))            #adding labels to each point"
   ]
  },
  {
   "cell_type": "code",
   "execution_count": 5,
   "id": "9ebc70dd-0223-41c0-9b03-5a66e8c2ee0b",
   "metadata": {},
   "outputs": [],
   "source": [
    "## adding all cc cam rec\n",
    "X = None\n",
    "y = None\n",
    "for i in range(len(dataset_no)):\n",
    "    temp1,temp2 = prepare(main_images[i],dataset_no[i],0)\n",
    "    temp3,temp4 = prepare(main_images[i],dataset_yes[i],1)\n",
    "    if X is not None:\n",
    "        X = np.vstack([X,temp1,temp3])\n",
    "        y = np.hstack([y,temp2,temp4])\n",
    "    else:\n",
    "        X = np.vstack([temp1,temp3])\n",
    "        y = np.hstack([temp2,temp4])\n",
    "image_number = np.array([0]*122 + [1]*122 +[2]*122 +[3]*122)\n",
    "y= np.hstack([y.reshape(-1,1),image_number.reshape(-1,1)])"
   ]
  },
  {
   "cell_type": "code",
   "execution_count": 6,
   "id": "cd9df530-25da-445b-8848-5bb7c859457f",
   "metadata": {},
   "outputs": [
    {
     "data": {
      "text/plain": [
       "(488, 480, 640, 3)"
      ]
     },
     "execution_count": 6,
     "metadata": {},
     "output_type": "execute_result"
    }
   ],
   "source": [
    "X.shape"
   ]
  },
  {
   "cell_type": "code",
   "execution_count": 7,
   "id": "2d5735d2-34c0-4d0b-be2e-3ba96055cec9",
   "metadata": {},
   "outputs": [
    {
     "data": {
      "text/plain": [
       "(488, 2)"
      ]
     },
     "execution_count": 7,
     "metadata": {},
     "output_type": "execute_result"
    }
   ],
   "source": [
    "y.shape"
   ]
  },
  {
   "cell_type": "markdown",
   "id": "491efa2e-87c7-4f0d-9358-e53958294dfe",
   "metadata": {},
   "source": [
    "### train test split"
   ]
  },
  {
   "cell_type": "code",
   "execution_count": 8,
   "id": "c480dab9-33b2-4914-8471-9e862617075d",
   "metadata": {},
   "outputs": [],
   "source": [
    "X_train,X_test,y_train,y_test = train_test_split(X,y,test_size=0.15,random_state=23)\n",
    "X_train,X_cv,y_train,y_cv = train_test_split(X_train,y_train,test_size=0.15,random_state=23)"
   ]
  },
  {
   "cell_type": "markdown",
   "id": "50da3a21-b5d4-4208-8464-b8ee2aaf50fa",
   "metadata": {},
   "source": [
    "### data augumentations"
   ]
  },
  {
   "cell_type": "code",
   "execution_count": 9,
   "id": "17a8712a-ff13-44f6-a024-31afd2d337ca",
   "metadata": {},
   "outputs": [],
   "source": [
    "aug1 = iaa.GaussianBlur(sigma=(0.0, 3.0))\n",
    "aug2 = iaa.MotionBlur(k=15)\n",
    "aug3 = iaa.WithColorspace(\n",
    "    to_colorspace=\"HSV\",\n",
    "    from_colorspace=\"RGB\",\n",
    "    children=iaa.WithChannels(\n",
    "        0,\n",
    "        iaa.Add((0, 50))\n",
    "    )\n",
    ")\n",
    "aug4 = iaa.MultiplyHueAndSaturation((0.5, 1.5), per_channel=True)\n",
    "aug5 = iaa.Grayscale(alpha=(0.0, 1.0))\n",
    "aug6 = iaa.ChangeColorTemperature((1100, 10000))\n",
    "aug7 = iaa.GammaContrast((0.5, 2.0), per_channel=True)\n",
    "aug8 = iaa.LogContrast(gain=(0.6, 1.4), per_channel=True)\n",
    "aug9 = iaa.AllChannelsCLAHE(clip_limit=(1, 10))\n",
    "aug10 = iaa.Clouds()\n",
    "aug11 = iaa.Fog()\n",
    "aug12 = iaa.Rain(speed=(0.1, 0.3))"
   ]
  },
  {
   "cell_type": "markdown",
   "id": "56b88fd2-6505-490b-974b-3cfd5ad1aa49",
   "metadata": {},
   "source": [
    "### data loaded"
   ]
  },
  {
   "cell_type": "code",
   "execution_count": 10,
   "id": "6aa79ddc-b0fe-4807-b7ef-f00ea473f33d",
   "metadata": {},
   "outputs": [],
   "source": [
    "class Dataset:\n",
    "\n",
    "    def __init__(self, X, y):\n",
    "        self.X=X\n",
    "        self.y=y\n",
    "\n",
    "    \n",
    "    def __getitem__(self, i):\n",
    "        \n",
    "        # read data\n",
    "        image = self.X[i]\n",
    "        \n",
    "        if bool(np.random.randint(2)):\n",
    "                image = aug1.augment_image(image)\n",
    "        if bool(np.random.randint(2)):\n",
    "                image = aug2.augment_image(image)\n",
    "        if bool(np.random.randint(2)):\n",
    "                image = aug3.augment_image(image)        \n",
    "        if bool(np.random.randint(2)):\n",
    "                image = aug4.augment_image(image)      \n",
    "        if bool(np.random.randint(2)):\n",
    "                image = aug5.augment_image(image)      \n",
    "        if bool(np.random.randint(2)):\n",
    "                image = aug6.augment_image(image)     \n",
    "        if bool(np.random.randint(2)):\n",
    "                image = aug7.augment_image(image)      \n",
    "        if bool(np.random.randint(2)):\n",
    "                image = aug8.augment_image(image)      \n",
    "        if bool(np.random.randint(2)):\n",
    "                image = aug9.augment_image(image)      \n",
    "        \"\"\"if bool(np.random.randint(2)):\n",
    "                image = aug10.augment_image(image)      \n",
    "        if bool(np.random.randint(2)):\n",
    "                image = aug11.augment_image(image)      \n",
    "        if bool(np.random.randint(2)):\n",
    "                image = aug12.augment_image(image)   \"\"\"  \n",
    "        image = main_images[self.y[i][1]] - image \n",
    "            \n",
    "        return image, self.y[i][0]\n",
    "        \n",
    "    def __len__(self):\n",
    "        return len(self.X)\n",
    "    \n",
    "    \n",
    "class Dataloder(tf.keras.utils.Sequence):    \n",
    "    def __init__(self, dataset, batch_size=1):\n",
    "        self.dataset = dataset\n",
    "        self.batch_size = batch_size\n",
    "\n",
    "    def __getitem__(self, i):\n",
    "        \n",
    "        # collect batch data\n",
    "        start = i * self.batch_size\n",
    "        stop = (i + 1) * self.batch_size\n",
    "        data = []\n",
    "        for j in range(start, stop):\n",
    "            data.append(self.dataset[j])\n",
    "        \n",
    "        batch = [np.stack(samples, axis=0) for samples in zip(*data)]\n",
    "        \n",
    "        return tuple(batch)\n",
    "    \n",
    "    def __len__(self):\n",
    "        return len(self.dataset) // self.batch_size"
   ]
  },
  {
   "cell_type": "code",
   "execution_count": 11,
   "id": "96e5b1ed-c1ea-466b-9e45-fdcf59025c41",
   "metadata": {},
   "outputs": [],
   "source": [
    "train_dataloder = Dataloder(Dataset(X_train,y_train))\n",
    "cv_dataloder = Dataloder(Dataset(X_cv,y_cv))\n",
    "test_dataloder = Dataloder(Dataset(X_test,y_test))"
   ]
  },
  {
   "cell_type": "markdown",
   "id": "82779d4c-7ed5-4fa4-89ab-3b364a54903c",
   "metadata": {},
   "source": [
    "### transfer learning "
   ]
  },
  {
   "cell_type": "code",
   "execution_count": 12,
   "id": "34bbbbd9-491e-4505-a159-cc17ecd2fe29",
   "metadata": {},
   "outputs": [
    {
     "name": "stdout",
     "output_type": "stream",
     "text": [
      "WARNING:tensorflow:`input_shape` is undefined or non-square, or `rows` is not in [96, 128, 160, 192, 224]. Weights for input shape (224, 224) will be loaded as the default.\n"
     ]
    }
   ],
   "source": [
    "base_model = tf.keras.applications.MobileNetV2(input_shape=(480,640,3),\n",
    "                                               include_top=False,\n",
    "                                               weights='imagenet')\n",
    "base_model.trainable = False"
   ]
  },
  {
   "cell_type": "markdown",
   "id": "aedfe3e4-c857-4344-b016-afc234e1bbe5",
   "metadata": {},
   "source": [
    "### model training "
   ]
  },
  {
   "cell_type": "code",
   "execution_count": 13,
   "id": "72911c07-a90a-4632-a6cc-4239032d00c2",
   "metadata": {},
   "outputs": [
    {
     "data": {
      "text/html": [
       "\n",
       "      <iframe id=\"tensorboard-frame-f3f98bea8d737442\" width=\"100%\" height=\"800\" frameborder=\"0\">\n",
       "      </iframe>\n",
       "      <script>\n",
       "        (function() {\n",
       "          const frame = document.getElementById(\"tensorboard-frame-f3f98bea8d737442\");\n",
       "          const url = new URL(\"/\", window.location);\n",
       "          const port = 6006;\n",
       "          if (port) {\n",
       "            url.port = port;\n",
       "          }\n",
       "          frame.src = url;\n",
       "        })();\n",
       "      </script>\n",
       "    "
      ],
      "text/plain": [
       "<IPython.core.display.HTML object>"
      ]
     },
     "metadata": {},
     "output_type": "display_data"
    }
   ],
   "source": [
    "from tensorflow.keras.callbacks import EarlyStopping,ModelCheckpoint,TensorBoard\n",
    "model_check=ModelCheckpoint('model.h5',save_best_only=True,verbose=3)\n",
    "\n",
    "%load_ext tensorboard\n",
    "# Clear any logs from previous runs\n",
    "!rm -rf ./logs/ \n",
    "%tensorboard --logdir './logs' --host \"0.0.0.0\" --port 6006\n",
    "from tensorflow.keras.callbacks import TensorBoard\n",
    "tensorboard_callback=TensorBoard('./logs',histogram_freq=1)\n",
    "early_stop=EarlyStopping(monitor='val_loss',patience=3)\n",
    "callbacks = [tensorboard_callback,model_check,early_stop]"
   ]
  },
  {
   "cell_type": "code",
   "execution_count": 14,
   "id": "d8a47b0d-aae0-41dc-aaad-f89108a8f49c",
   "metadata": {},
   "outputs": [],
   "source": [
    "input_layer = Input(shape=X[0].shape)\n",
    "output = base_model(input_layer)\n",
    "fla = Flatten()(output)\n",
    "final_output = Dense(1, activation='sigmoid')(fla)\n",
    "m = Model(inputs=input_layer,outputs = final_output)\n",
    "m.compile(loss='binary_crossentropy',optimizer='adam',metrics=['accuracy','AUC'])"
   ]
  },
  {
   "cell_type": "code",
   "execution_count": 15,
   "id": "55249b47-b09e-4afd-a7b1-3b5b6a198d66",
   "metadata": {},
   "outputs": [
    {
     "name": "stdout",
     "output_type": "stream",
     "text": [
      "Model: \"model\"\n",
      "_________________________________________________________________\n",
      " Layer (type)                Output Shape              Param #   \n",
      "=================================================================\n",
      " input_2 (InputLayer)        [(None, 480, 640, 3)]     0         \n",
      "                                                                 \n",
      " mobilenetv2_1.00_224 (Funct  (None, 15, 20, 1280)     2257984   \n",
      " ional)                                                          \n",
      "                                                                 \n",
      " flatten (Flatten)           (None, 384000)            0         \n",
      "                                                                 \n",
      " dense (Dense)               (None, 1)                 384001    \n",
      "                                                                 \n",
      "=================================================================\n",
      "Total params: 2,641,985\n",
      "Trainable params: 384,001\n",
      "Non-trainable params: 2,257,984\n",
      "_________________________________________________________________\n"
     ]
    }
   ],
   "source": [
    "m.summary()"
   ]
  },
  {
   "cell_type": "code",
   "execution_count": 16,
   "id": "21bd8108-3cc5-4b76-b2fc-ddbdcedbf9d2",
   "metadata": {
    "tags": []
   },
   "outputs": [
    {
     "name": "stdout",
     "output_type": "stream",
     "text": [
      "Epoch 1/10\n",
      "351/351 [==============================] - ETA: 0s - loss: 6.8971 - accuracy: 0.7692 - auc: 0.7820\n",
      "Epoch 1: val_loss improved from inf to 0.72175, saving model to model.h5\n",
      "351/351 [==============================] - 60s 162ms/step - loss: 6.8971 - accuracy: 0.7692 - auc: 0.7820 - val_loss: 0.7218 - val_accuracy: 0.9683 - val_auc: 0.9682\n",
      "Epoch 2/10\n",
      "351/351 [==============================] - ETA: 0s - loss: 4.3238 - accuracy: 0.8718 - auc: 0.8821\n",
      "Epoch 2: val_loss did not improve from 0.72175\n",
      "351/351 [==============================] - 54s 155ms/step - loss: 4.3238 - accuracy: 0.8718 - auc: 0.8821 - val_loss: 4.1311 - val_accuracy: 0.8889 - val_auc: 0.8871\n",
      "Epoch 3/10\n",
      "351/351 [==============================] - ETA: 0s - loss: 2.3592 - accuracy: 0.9345 - auc: 0.9414\n",
      "Epoch 3: val_loss did not improve from 0.72175\n",
      "351/351 [==============================] - 61s 172ms/step - loss: 2.3592 - accuracy: 0.9345 - auc: 0.9414 - val_loss: 0.8162 - val_accuracy: 0.9524 - val_auc: 0.9521\n",
      "Epoch 4/10\n",
      "351/351 [==============================] - ETA: 0s - loss: 2.5312 - accuracy: 0.9487 - auc: 0.9540\n",
      "Epoch 4: val_loss did not improve from 0.72175\n",
      "351/351 [==============================] - 54s 154ms/step - loss: 2.5312 - accuracy: 0.9487 - auc: 0.9540 - val_loss: 3.1627 - val_accuracy: 0.9524 - val_auc: 0.9521\n"
     ]
    }
   ],
   "source": [
    "h = m.fit(train_dataloder,validation_data=cv_dataloder,epochs=10,callbacks = callbacks)"
   ]
  },
  {
   "cell_type": "code",
   "execution_count": 17,
   "id": "8450aeb5-dbf9-436c-8c8d-fe50e9bf0257",
   "metadata": {},
   "outputs": [],
   "source": [
    "m.save('model/cnn.h5')"
   ]
  },
  {
   "cell_type": "code",
   "execution_count": 18,
   "id": "628dc51b-5ad0-4d5e-9fa0-59a45003edae",
   "metadata": {},
   "outputs": [
    {
     "name": "stdout",
     "output_type": "stream",
     "text": [
      "74/74 [==============================] - 9s 125ms/step - loss: 2.9270 - accuracy: 0.9189 - auc: 0.9181\n"
     ]
    },
    {
     "data": {
      "text/plain": [
       "[2.9270341396331787, 0.9189189076423645, 0.9181286096572876]"
      ]
     },
     "execution_count": 18,
     "metadata": {},
     "output_type": "execute_result"
    }
   ],
   "source": [
    "m.evaluate(test_dataloder)"
   ]
  },
  {
   "cell_type": "code",
   "execution_count": null,
   "id": "94e77144-7dd1-4866-9547-f84d8e9223e5",
   "metadata": {},
   "outputs": [],
   "source": [
    "pred"
   ]
  },
  {
   "cell_type": "code",
   "execution_count": 23,
   "id": "d758edbb-1a2a-46da-89c8-ce5f7604e197",
   "metadata": {},
   "outputs": [
    {
     "name": "stdout",
     "output_type": "stream",
     "text": [
      "351/351 [==============================] - 43s 121ms/step\n",
      "74/74 [==============================] - 9s 118ms/step\n"
     ]
    },
    {
     "data": {
      "image/png": "[encoded data removed]",
      "text/plain": [
       "<Figure size 640x480 with 1 Axes>"
      ]
     },
     "metadata": {},
     "output_type": "display_data"
    }
   ],
   "source": [
    "predict_train = m.predict(train_dataloder).reshape(-1,1)\n",
    "predict_test = m.predict(test_dataloder).reshape(-1,1)\n",
    "fpr,tpr,thres=roc_curve(y_train[:,0],predict_train)\n",
    "plt.plot(fpr,tpr,label='train auc value  {}'.format(auc(fpr,tpr)))\n",
    "plt.xlabel('fpr')\n",
    "plt.ylabel('tpr')\n",
    "plt.legend()\n",
    "#plt.title('roc_curve for train')\n",
    "fpr,tpr,thres=roc_curve(y_test[:,0],predict_test)\n",
    "plt.plot(fpr,tpr,label='test auc value  {}'.format(auc(fpr,tpr)))\n",
    "plt.xlabel('fpr')\n",
    "plt.ylabel('tpr')\n",
    "plt.legend()\n",
    "plt.title('roc_curve')\n",
    "plt.show()"
   ]
  },
  {
   "cell_type": "code",
   "execution_count": 25,
   "id": "e871c0b2-5c0e-4736-8c12-f53990a5dc0f",
   "metadata": {},
   "outputs": [],
   "source": [
    "def best_threshold(fpr,tpr,thres):\n",
    "    return thres[np.argmax(tpr*(1-fpr))]\n",
    "def after_best_threshold(x,thres):\n",
    "    label=[ ]\n",
    "    for i in x:\n",
    "        if i<thres:\n",
    "            label.append(0)\n",
    "        else:\n",
    "            label.append(1)\n",
    "    return label\n",
    "fpr,tpr,thres=roc_curve(y_train[:,0],predict_train)\n",
    "b=best_threshold(fpr,tpr,thres)"
   ]
  },
  {
   "cell_type": "code",
   "execution_count": 27,
   "id": "aa91073e-bd73-4004-85c9-967e4d5c6fa0",
   "metadata": {},
   "outputs": [
    {
     "data": {
      "image/png": "[encoded data removed]",
      "text/plain": [
       "<Figure size 640x480 with 2 Axes>"
      ]
     },
     "metadata": {},
     "output_type": "display_data"
    }
   ],
   "source": [
    "from sklearn.metrics import confusion_matrix\n",
    "predict_test_after_best_thresh=after_best_threshold(predict_test,b)\n",
    "cm=confusion_matrix(y_test[:,0],predict_test_after_best_thresh).T\n",
    "temp=pd.DataFrame(data=cm,columns=['actual 0','actual 1'],index=['predicted 0','predicted 1'])\n",
    "sns.heatmap(temp,annot=True,fmt='d')\n",
    "plt.title('confusion matrix for test data')\n",
    "plt.show()"
   ]
  },
  {
   "cell_type": "markdown",
   "id": "c9e9b966-94fc-4b0f-95dc-7b6670d3c62a",
   "metadata": {},
   "source": [
    "### Results :\n",
    "\n",
    "got accurcay 0.9 ,but dataset was too small"
   ]
  }
 ],
 "metadata": {
  "kernelspec": {
   "display_name": "Python [conda env:original] *",
   "language": "python",
   "name": "conda-env-original-py"
  },
  "language_info": {
   "codemirror_mode": {
    "name": "ipython",
    "version": 3
   },
   "file_extension": ".py",
   "mimetype": "text/x-python",
   "name": "python",
   "nbconvert_exporter": "python",
   "pygments_lexer": "ipython3",
   "version": "3.9.13"
  }
 },
 "nbformat": 4,
 "nbformat_minor": 5
}
