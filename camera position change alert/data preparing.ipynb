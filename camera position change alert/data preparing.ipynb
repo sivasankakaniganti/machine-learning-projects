{
 "cells": [
  {
   "cell_type": "code",
   "execution_count": null,
   "id": "9c172c33-fbdf-4852-a28d-909e785812f9",
   "metadata": {},
   "outputs": [],
   "source": [
    "# import the opencv library\n",
    "import cv2\n",
    "import time\n",
    "l=[] \n",
    "# define a video capture object\n",
    "vid = cv2.VideoCapture(0)\n",
    "i = 0\n",
    "while(True):\n",
    "      \n",
    "    # Capture the video frame\n",
    "    # by frame\n",
    "    ret, frame = vid.read()\n",
    "    l.append(frame)\n",
    "    # Display the resulting frame\n",
    "    cv2.imshow('frame', frame)\n",
    "    if i==60:\n",
    "        break\n",
    "    i+=1\n",
    "    time.sleep(1)\n",
    "    # the 'q' button is set as the\n",
    "    # quitting button you may use any\n",
    "    # desired button of your choice\n",
    "    if cv2.waitKey(1) & 0xFF == ord('t'):\n",
    "        time.sleep(3)\n",
    "    \n",
    "    if cv2.waitKey(1) & 0xFF == ord('q'):\n",
    "        break\n",
    "\n",
    "# After the loop release the cap object\n",
    "vid.release()\n",
    "# Destroy all the windows\n",
    "cv2.destroyAllWindows()\n",
    "l = np.array(l)\n",
    "np.save('dataset_images/forth_cam_yes.npy',l)\n",
    "del l"
   ]
  },
  {
   "cell_type": "markdown",
   "id": "e87a38a3-ce03-4897-8e3b-a2930c423980",
   "metadata": {},
   "source": []
  }
 ],
 "metadata": {
  "kernelspec": {
   "display_name": "Python [conda env:original] *",
   "language": "python",
   "name": "conda-env-original-py"
  },
  "language_info": {
   "codemirror_mode": {
    "name": "ipython",
    "version": 3
   },
   "file_extension": ".py",
   "mimetype": "text/x-python",
   "name": "python",
   "nbconvert_exporter": "python",
   "pygments_lexer": "ipython3",
   "version": "3.9.13"
  }
 },
 "nbformat": 4,
 "nbformat_minor": 5
}
