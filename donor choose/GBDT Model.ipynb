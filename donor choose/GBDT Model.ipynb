{
 "cells": [
  {
   "cell_type": "markdown",
   "metadata": {
    "id": "8wqapAXjsc24"
   },
   "source": [
    "# GBDT"
   ]
  },
  {
   "cell_type": "markdown",
   "metadata": {
    "id": "3KwfGufDsc3D"
   },
   "source": [
    "<ol>\n",
    "    <li>\n",
    "        <ul>\n",
    "            <li><font color='red'>Set 1</font>: categorical(instead of one hot encoding, try <a href='https://www.appliedaicourse.com/course/applied-ai-course-online/lessons/handling-categorical-and-numerical-features/'>response coding</a>: use probability values), numerical features + project_title(TFIDF)+  preprocessed_eassay (TFIDF)+sentiment Score of eassay(check the bellow example, include all 4 values as 4 features)</li>\n",
    "            <li><font color='red'>Set 2</font>: categorical(instead of one hot encoding, try <a href='https://www.appliedaicourse.com/course/applied-ai-course-online/lessons/handling-categorical-and-numerical-features/'>response coding</a>: use probability values), numerical features + project_title(TFIDF W2V)+  preprocessed_eassay (TFIDF W2V)</li>        "
   ]
  },
  {
   "cell_type": "code",
   "execution_count": null,
   "metadata": {
    "colab": {
     "base_uri": "https://localhost:8080/"
    },
    "id": "iffa2_WGsc3H",
    "outputId": "81b6b8b2-01bc-4d94-e7ae-f2faa0045a52"
   },
   "outputs": [
    {
     "name": "stdout",
     "output_type": "stream",
     "text": [
      "sentiment score for sentence 1 {'neg': 0.0, 'neu': 0.213, 'pos': 0.787, 'compound': 0.5719}\n",
      "sentiment score for sentence 2 {'neg': 0.756, 'neu': 0.244, 'pos': 0.0, 'compound': -0.4767}\n",
      "sentiment score for sentence 3 {'neg': 0.0, 'neu': 1.0, 'pos': 0.0, 'compound': 0.0}\n"
     ]
    }
   ],
   "source": [
    "import nltk\n",
    "from nltk.sentiment.vader import SentimentIntensityAnalyzer\n",
    "import numpy as np\n",
    "# import nltk\n",
    "# nltk.download('vader_lexicon')\n",
    "\n",
    "sid = SentimentIntensityAnalyzer()\n",
    "\n",
    "sample_sentence_1='I am happy.'\n",
    "ss_1 = sid.polarity_scores(sample_sentence_1)\n",
    "print('sentiment score for sentence 1',ss_1)\n",
    "\n",
    "sample_sentence_2='I am sad.'\n",
    "ss_2 = sid.polarity_scores(sample_sentence_2)\n",
    "print('sentiment score for sentence 2',ss_2)\n",
    "\n",
    "sample_sentence_3='I am going to New Delhi tommorow.'\n",
    "ss_3 = sid.polarity_scores(sample_sentence_3)\n",
    "print('sentiment score for sentence 3',ss_3)"
   ]
  },
  {
   "cell_type": "markdown",
   "metadata": {
    "id": "BOyTl7oKsc3W"
   },
   "source": [
    "<h1>1. GBDT (xgboost/lightgbm) </h1>"
   ]
  },
  {
   "cell_type": "markdown",
   "metadata": {
    "id": "VWge-b2Zsc3Z"
   },
   "source": [
    "## 1.1 Loading Data"
   ]
  },
  {
   "cell_type": "code",
   "execution_count": null,
   "metadata": {
    "id": "q-lHjPg-7NSp"
   },
   "outputs": [],
   "source": [
    "#please use below code to load glove vectors \n",
    "import pickle\n",
    "with open('shared_drive/aaic/11_Donors_choose_GBDT/glove_vectors', 'rb') as f:\n",
    "    model = pickle.load(f)\n",
    "    glove_words =  set(model.keys())"
   ]
  },
  {
   "cell_type": "code",
   "execution_count": null,
   "metadata": {
    "id": "WDZFu6-usc3d"
   },
   "outputs": [],
   "source": [
    "import pandas as pd\n",
    "data = pd.read_csv('shared_drive/aaic/6_Donors_choose_NB/preprocessed_data.csv')"
   ]
  },
  {
   "cell_type": "code",
   "execution_count": null,
   "metadata": {
    "id": "nSGQBqcoYcPG"
   },
   "outputs": [],
   "source": [
    "#data=data[:500]"
   ]
  },
  {
   "cell_type": "code",
   "execution_count": null,
   "metadata": {
    "colab": {
     "base_uri": "https://localhost:8080/"
    },
    "id": "ZoFnx-NuXKbK",
    "outputId": "f62a3ca5-f79d-4c19-9c1b-c27b2dda2f0e"
   },
   "outputs": [
    {
     "name": "stderr",
     "output_type": "stream",
     "text": [
      "100%|██████████| 109248/109248 [02:29<00:00, 730.53it/s]\n"
     ]
    }
   ],
   "source": [
    "from tqdm import tqdm\n",
    "sentiment={'neg':[],'neu':[],'pos':[],'compound':[]}\n",
    "for i in tqdm(data['essay'].values):\n",
    "  temp=sid.polarity_scores(i)\n",
    "  sentiment['neg'].append(temp['neg'])\n",
    "  sentiment['neu'].append(temp['neu'])\n",
    "  sentiment['pos'].append(temp['pos'])\n",
    "  sentiment['compound'].append(temp['compound'])"
   ]
  },
  {
   "cell_type": "code",
   "execution_count": null,
   "metadata": {
    "id": "_UHS_X34X_bw"
   },
   "outputs": [],
   "source": [
    "sentiment=pd.DataFrame(sentiment)\n",
    "data=pd.concat([data,sentiment],axis=1)"
   ]
  },
  {
   "cell_type": "code",
   "execution_count": null,
   "metadata": {
    "colab": {
     "base_uri": "https://localhost:8080/",
     "height": 380
    },
    "id": "Scl-slqSxGZJ",
    "outputId": "679d814d-805a-4d9f-c4d8-9b61c640d8aa"
   },
   "outputs": [
    {
     "data": {
      "text/html": [
       "<div>\n",
       "<style scoped>\n",
       "    .dataframe tbody tr th:only-of-type {\n",
       "        vertical-align: middle;\n",
       "    }\n",
       "\n",
       "    .dataframe tbody tr th {\n",
       "        vertical-align: top;\n",
       "    }\n",
       "\n",
       "    .dataframe thead th {\n",
       "        text-align: right;\n",
       "    }\n",
       "</style>\n",
       "<table border=\"1\" class=\"dataframe\">\n",
       "  <thead>\n",
       "    <tr style=\"text-align: right;\">\n",
       "      <th></th>\n",
       "      <th>school_state</th>\n",
       "      <th>teacher_prefix</th>\n",
       "      <th>project_grade_category</th>\n",
       "      <th>teacher_number_of_previously_posted_projects</th>\n",
       "      <th>project_is_approved</th>\n",
       "      <th>clean_categories</th>\n",
       "      <th>clean_subcategories</th>\n",
       "      <th>essay</th>\n",
       "      <th>price</th>\n",
       "      <th>neg</th>\n",
       "      <th>neu</th>\n",
       "      <th>pos</th>\n",
       "      <th>compound</th>\n",
       "    </tr>\n",
       "  </thead>\n",
       "  <tbody>\n",
       "    <tr>\n",
       "      <th>0</th>\n",
       "      <td>ca</td>\n",
       "      <td>mrs</td>\n",
       "      <td>grades_prek_2</td>\n",
       "      <td>53</td>\n",
       "      <td>1</td>\n",
       "      <td>math_science</td>\n",
       "      <td>appliedsciences health_lifescience</td>\n",
       "      <td>i fortunate enough use fairy tale stem kits cl...</td>\n",
       "      <td>725.05</td>\n",
       "      <td>0.013</td>\n",
       "      <td>0.783</td>\n",
       "      <td>0.205</td>\n",
       "      <td>0.9867</td>\n",
       "    </tr>\n",
       "    <tr>\n",
       "      <th>1</th>\n",
       "      <td>ut</td>\n",
       "      <td>ms</td>\n",
       "      <td>grades_3_5</td>\n",
       "      <td>4</td>\n",
       "      <td>1</td>\n",
       "      <td>specialneeds</td>\n",
       "      <td>specialneeds</td>\n",
       "      <td>imagine 8 9 years old you third grade classroo...</td>\n",
       "      <td>213.03</td>\n",
       "      <td>0.072</td>\n",
       "      <td>0.680</td>\n",
       "      <td>0.248</td>\n",
       "      <td>0.9897</td>\n",
       "    </tr>\n",
       "    <tr>\n",
       "      <th>2</th>\n",
       "      <td>ca</td>\n",
       "      <td>mrs</td>\n",
       "      <td>grades_prek_2</td>\n",
       "      <td>10</td>\n",
       "      <td>1</td>\n",
       "      <td>literacy_language</td>\n",
       "      <td>literacy</td>\n",
       "      <td>having class 24 students comes diverse learner...</td>\n",
       "      <td>329.00</td>\n",
       "      <td>0.017</td>\n",
       "      <td>0.721</td>\n",
       "      <td>0.262</td>\n",
       "      <td>0.9860</td>\n",
       "    </tr>\n",
       "    <tr>\n",
       "      <th>3</th>\n",
       "      <td>ga</td>\n",
       "      <td>mrs</td>\n",
       "      <td>grades_prek_2</td>\n",
       "      <td>2</td>\n",
       "      <td>1</td>\n",
       "      <td>appliedlearning</td>\n",
       "      <td>earlydevelopment</td>\n",
       "      <td>i recently read article giving students choice...</td>\n",
       "      <td>481.04</td>\n",
       "      <td>0.030</td>\n",
       "      <td>0.783</td>\n",
       "      <td>0.187</td>\n",
       "      <td>0.9524</td>\n",
       "    </tr>\n",
       "    <tr>\n",
       "      <th>4</th>\n",
       "      <td>wa</td>\n",
       "      <td>mrs</td>\n",
       "      <td>grades_3_5</td>\n",
       "      <td>2</td>\n",
       "      <td>1</td>\n",
       "      <td>literacy_language</td>\n",
       "      <td>literacy</td>\n",
       "      <td>my students crave challenge eat obstacles brea...</td>\n",
       "      <td>17.74</td>\n",
       "      <td>0.029</td>\n",
       "      <td>0.683</td>\n",
       "      <td>0.288</td>\n",
       "      <td>0.9873</td>\n",
       "    </tr>\n",
       "  </tbody>\n",
       "</table>\n",
       "</div>"
      ],
      "text/plain": [
       "  school_state teacher_prefix project_grade_category  \\\n",
       "0           ca            mrs          grades_prek_2   \n",
       "1           ut             ms             grades_3_5   \n",
       "2           ca            mrs          grades_prek_2   \n",
       "3           ga            mrs          grades_prek_2   \n",
       "4           wa            mrs             grades_3_5   \n",
       "\n",
       "   teacher_number_of_previously_posted_projects  project_is_approved  \\\n",
       "0                                            53                    1   \n",
       "1                                             4                    1   \n",
       "2                                            10                    1   \n",
       "3                                             2                    1   \n",
       "4                                             2                    1   \n",
       "\n",
       "    clean_categories                 clean_subcategories  \\\n",
       "0       math_science  appliedsciences health_lifescience   \n",
       "1       specialneeds                        specialneeds   \n",
       "2  literacy_language                            literacy   \n",
       "3    appliedlearning                    earlydevelopment   \n",
       "4  literacy_language                            literacy   \n",
       "\n",
       "                                               essay   price    neg    neu  \\\n",
       "0  i fortunate enough use fairy tale stem kits cl...  725.05  0.013  0.783   \n",
       "1  imagine 8 9 years old you third grade classroo...  213.03  0.072  0.680   \n",
       "2  having class 24 students comes diverse learner...  329.00  0.017  0.721   \n",
       "3  i recently read article giving students choice...  481.04  0.030  0.783   \n",
       "4  my students crave challenge eat obstacles brea...   17.74  0.029  0.683   \n",
       "\n",
       "     pos  compound  \n",
       "0  0.205    0.9867  \n",
       "1  0.248    0.9897  \n",
       "2  0.262    0.9860  \n",
       "3  0.187    0.9524  \n",
       "4  0.288    0.9873  "
      ]
     },
     "execution_count": 7,
     "metadata": {},
     "output_type": "execute_result"
    }
   ],
   "source": [
    "data.head()"
   ]
  },
  {
   "cell_type": "code",
   "execution_count": null,
   "metadata": {
    "colab": {
     "base_uri": "https://localhost:8080/"
    },
    "id": "GLzr076C1Dkr",
    "outputId": "747b7e12-076b-49b4-bd99-1bf6456fc22a"
   },
   "outputs": [
    {
     "data": {
      "text/plain": [
       "109248"
      ]
     },
     "execution_count": 8,
     "metadata": {},
     "output_type": "execute_result"
    }
   ],
   "source": [
    "len(data)"
   ]
  },
  {
   "cell_type": "code",
   "execution_count": null,
   "metadata": {
    "id": "XX7Vur6M2GXa"
   },
   "outputs": [],
   "source": [
    "X=data.drop('project_is_approved',axis=1)\n",
    "y=data['project_is_approved'].values"
   ]
  },
  {
   "cell_type": "code",
   "execution_count": null,
   "metadata": {
    "colab": {
     "base_uri": "https://localhost:8080/"
    },
    "id": "v4Vdz9T522MK",
    "outputId": "2a6b64d7-3603-422d-a341-90ceef4d5dce"
   },
   "outputs": [
    {
     "data": {
      "text/plain": [
       "1    92706\n",
       "0    16542\n",
       "Name: project_is_approved, dtype: int64"
      ]
     },
     "execution_count": 10,
     "metadata": {},
     "output_type": "execute_result"
    }
   ],
   "source": [
    "data.project_is_approved.value_counts()"
   ]
  },
  {
   "cell_type": "markdown",
   "metadata": {
    "id": "6lAMFKFcsc3j"
   },
   "source": [
    "<h2>1.2 Splitting data into Train and cross validation(or test): Stratified Sampling</h2>"
   ]
  },
  {
   "cell_type": "code",
   "execution_count": null,
   "metadata": {
    "id": "ODMijuuNsc3l"
   },
   "outputs": [],
   "source": [
    "# please write all the code with proper documentation, and proper titles for each subsection\n",
    "# go through documentations and blogs before you start coding\n",
    "# first figure out what to do, and then think about how to do.\n",
    "# reading and understanding error messages will be very much helpfull in debugging your code\n",
    "# when you plot any graph make sure you use \n",
    "    # a. Title, that describes your plot, this will be very helpful to the reader\n",
    "    # b. Legends if needed\n",
    "    # c. X-axis label\n",
    "    # d. Y-axis label\n",
    "from sklearn.model_selection import train_test_split\n",
    "x_train,x_test,y_train,y_test=train_test_split(X,y,stratify=y,random_state=10)"
   ]
  },
  {
   "cell_type": "code",
   "execution_count": null,
   "metadata": {
    "colab": {
     "base_uri": "https://localhost:8080/"
    },
    "id": "LhRhYd_n3aJZ",
    "outputId": "755067e8-cdeb-4cd6-d308-b525d8314f89"
   },
   "outputs": [
    {
     "data": {
      "text/plain": [
       "((81936, 12), (81936,))"
      ]
     },
     "execution_count": 12,
     "metadata": {},
     "output_type": "execute_result"
    }
   ],
   "source": [
    "x_train.shape,y_train.shape"
   ]
  },
  {
   "cell_type": "code",
   "execution_count": null,
   "metadata": {
    "colab": {
     "base_uri": "https://localhost:8080/"
    },
    "id": "V7jndpdz3fYd",
    "outputId": "6a806a82-055d-4c85-8382-42cfa7c563c4"
   },
   "outputs": [
    {
     "data": {
      "text/plain": [
       "((27312, 12), (27312,))"
      ]
     },
     "execution_count": 13,
     "metadata": {},
     "output_type": "execute_result"
    }
   ],
   "source": [
    "x_test.shape,y_test.shape"
   ]
  },
  {
   "cell_type": "markdown",
   "metadata": {
    "id": "vsALgl5Asc3u"
   },
   "source": [
    "<h2>1.3 Make Data Model Ready: encoding eassay, and project_title</h2>"
   ]
  },
  {
   "cell_type": "code",
   "execution_count": null,
   "metadata": {
    "colab": {
     "base_uri": "https://localhost:8080/"
    },
    "id": "1A_85jbWsc3v",
    "outputId": "a87aa596-bdd7-4f78-e24e-afd5ab4578c3"
   },
   "outputs": [
    {
     "name": "stderr",
     "output_type": "stream",
     "text": [
      "/home/ubuntu/.local/lib/python3.9/site-packages/sklearn/utils/deprecation.py:87: FutureWarning: Function get_feature_names is deprecated; get_feature_names is deprecated in 1.0 and will be removed in 1.2. Please use get_feature_names_out instead.\n",
      "  warnings.warn(msg, category=FutureWarning)\n"
     ]
    }
   ],
   "source": [
    "\n",
    "from sklearn.feature_extraction.text import TfidfVectorizer\n",
    "vectorizer=TfidfVectorizer()\n",
    "x_train_essay=vectorizer.fit_transform(x_train['essay'])\n",
    "x_test_essay=vectorizer.transform(x_test['essay'])\n",
    "dictionary = dict(zip(vectorizer.get_feature_names(), list(vectorizer.idf_)))\n",
    "tfidf_words = set(vectorizer.get_feature_names())"
   ]
  },
  {
   "cell_type": "code",
   "execution_count": null,
   "metadata": {
    "colab": {
     "base_uri": "https://localhost:8080/"
    },
    "id": "PUEGlxD4xscU",
    "outputId": "b19bc195-f330-4350-f669-3b8da1317ddf"
   },
   "outputs": [
    {
     "data": {
      "text/plain": [
       "(81936, 50413)"
      ]
     },
     "execution_count": 15,
     "metadata": {},
     "output_type": "execute_result"
    }
   ],
   "source": [
    "x_train_essay.shape"
   ]
  },
  {
   "cell_type": "code",
   "execution_count": null,
   "metadata": {
    "colab": {
     "base_uri": "https://localhost:8080/"
    },
    "id": "2rUZ27DNy7Eo",
    "outputId": "d8df371f-3608-4447-dba5-85382f3a2b79"
   },
   "outputs": [
    {
     "data": {
      "text/plain": [
       "(27312, 50413)"
      ]
     },
     "execution_count": 16,
     "metadata": {},
     "output_type": "execute_result"
    }
   ],
   "source": [
    "x_test_essay.shape"
   ]
  },
  {
   "cell_type": "markdown",
   "metadata": {
    "id": "S3Vxxv2Hsc31"
   },
   "source": [
    "<h2>1.4 Make Data Model Ready: encoding numerical, categorical features</h2>"
   ]
  },
  {
   "cell_type": "code",
   "execution_count": null,
   "metadata": {
    "id": "RAtihVPqsc33"
   },
   "outputs": [],
   "source": [
    "\n",
    "x_train_price=x_train['price'].values.reshape(-1,1)  # not normalizing data , because DT not use distances\n",
    "x_test_price=x_test['price'].values.reshape(-1,1)\n",
    "x_train_teacher_number_of_previously_posted_projects=x_train['teacher_number_of_previously_posted_projects'].values.reshape(-1,1)\n",
    "x_test_teacher_number_of_previously_posted_projects=x_test['teacher_number_of_previously_posted_projects'].values.reshape(-1,1)\n",
    "x_train_neg=x_train['neg'].values.reshape(-1,1)\n",
    "x_test_neg=x_test['neg'].values.reshape(-1,1)\n",
    "x_train_pos=x_train['pos'].values.reshape(-1,1)\n",
    "x_test_pos=x_test['pos'].values.reshape(-1,1)\n",
    "x_train_neu=x_train['neu'].values.reshape(-1,1)\n",
    "x_test_neu=x_test['neu'].values.reshape(-1,1)\n",
    "x_train_compound=x_train['compound'].values.reshape(-1,1)\n",
    "x_test_compound=x_test['compound'].values.reshape(-1,1)"
   ]
  },
  {
   "cell_type": "code",
   "execution_count": null,
   "metadata": {
    "id": "KQ5vmLZQGqXr"
   },
   "outputs": [],
   "source": [
    "def response_coding(feature_data,label_data,x_test):  #features data = data of the feature which need to do response coding  #lebel_data = Y values ,x_test = test data for that feature \n",
    "    data=pd.DataFrame({'x':feature_data,'y':label_data})\n",
    "    temp=data['x'].value_counts()\n",
    "    class_1=data[data['y']==0].drop('y',axis=1)\n",
    "    temp1=class_1.value_counts()\n",
    "    class_2=data[data['y']==1].drop('y',axis=1)\n",
    "    temp2=class_2.value_counts()\n",
    "    column_1=[]\n",
    "    column_2=[]\n",
    "    for i in feature_data:\n",
    "        try:\n",
    "            column_1.append(temp1[i]/temp[i])\n",
    "        except:\n",
    "            temp1[i]=0             #if its not present in one class giving value 0   \n",
    "            column_1.append(0)\n",
    "        try:\n",
    "            column_2.append(temp2[i]/temp[i])\n",
    "        except:\n",
    "            temp2[i]=0             #if its not present in one class giving value 0\n",
    "            column_2.append(0)\n",
    "    x_train_x=pd.DataFrame({'0':column_1,'1':column_2})\n",
    "    column_1=[]\n",
    "    column_2=[]\n",
    "    for i in x_test.values:\n",
    "        try:\n",
    "            column_1.append(temp1[i]/temp[i])\n",
    "            column_2.append(temp2[i]/temp[i])\n",
    "        except:\n",
    "            column_1.append(0.5)   #if not present in the train data giving 0.5\n",
    "            column_2.append(0.5)\n",
    "    x_test_x=pd.DataFrame({'0':column_1,'1':column_2})\n",
    "    return x_train_x,x_test_x  #x_train and x_test"
   ]
  },
  {
   "cell_type": "code",
   "execution_count": null,
   "metadata": {
    "id": "ZAQH5MCtRc1C"
   },
   "outputs": [],
   "source": [
    "x_train_school_state,x_test_school_state=response_coding(x_train['school_state'].values,y_train,x_test['school_state'])\n",
    "x_train_teacher_prefix,x_test_teacher_prefix=response_coding(x_train['teacher_prefix'].values,y_train,x_test['teacher_prefix'])\n",
    "x_train_project_grade_category,x_test_project_grade_category=response_coding(x_train['project_grade_category'].values,y_train,x_test['project_grade_category'])\n",
    "x_train_clean_subcategories,x_test_clean_subcategories=response_coding(x_train['clean_subcategories'].values,y_train,x_test['clean_subcategories'])\n",
    "x_train_clean_categories,x_test_clean_categories=response_coding(x_train['clean_categories'].values,y_train,x_test['clean_categories'])"
   ]
  },
  {
   "cell_type": "code",
   "execution_count": null,
   "metadata": {
    "id": "pT20BSbRWH8L"
   },
   "outputs": [],
   "source": [
    "from scipy.sparse import hstack"
   ]
  },
  {
   "cell_type": "code",
   "execution_count": null,
   "metadata": {
    "colab": {
     "base_uri": "https://localhost:8080/"
    },
    "id": "YCC8MTFJai4H",
    "outputId": "5df78a6b-2847-4f48-f3ed-e1a2db695e2c"
   },
   "outputs": [
    {
     "data": {
      "text/plain": [
       "(27312, 2)"
      ]
     },
     "execution_count": 21,
     "metadata": {},
     "output_type": "execute_result"
    }
   ],
   "source": [
    "x_test_school_state.shape"
   ]
  },
  {
   "cell_type": "markdown",
   "metadata": {
    "id": "ex5sEkmtznjX"
   },
   "source": [
    "# Set-1"
   ]
  },
  {
   "cell_type": "code",
   "execution_count": null,
   "metadata": {
    "id": "L9QeX8RPTiWD"
   },
   "outputs": [],
   "source": [
    "x_train_final=hstack([x_train_school_state.values,x_train_teacher_prefix.values,x_train_project_grade_category.values,x_train_clean_categories.values,x_train_clean_subcategories.values,x_train_price,x_train_teacher_number_of_previously_posted_projects,x_train_essay,x_train_neg,x_train_neu,x_train_pos,x_train_compound])\n",
    "x_test_final=hstack([x_test_school_state.values,x_test_teacher_prefix.values,x_test_project_grade_category.values,x_test_clean_categories.values,x_test_clean_subcategories.values,x_test_price,x_test_teacher_number_of_previously_posted_projects,x_test_essay,x_test_neg,x_test_neu,x_test_pos,x_test_compound])"
   ]
  },
  {
   "cell_type": "code",
   "execution_count": null,
   "metadata": {
    "colab": {
     "base_uri": "https://localhost:8080/"
    },
    "id": "URen7X4J5nxY",
    "outputId": "18626b37-2e39-4adc-a7be-6477959a7181"
   },
   "outputs": [
    {
     "name": "stderr",
     "output_type": "stream",
     "text": [
      "100%|██████████| 81936/81936 [02:29<00:00, 548.83it/s]"
     ]
    },
    {
     "name": "stdout",
     "output_type": "stream",
     "text": [
      "\n",
      "81936\n",
      "300\n"
     ]
    },
    {
     "name": "stderr",
     "output_type": "stream",
     "text": [
      "\n"
     ]
    }
   ],
   "source": [
    "# average Word2Vec\n",
    "# compute average word2vec for each review.\n",
    "x_train_tfidf_w2v_vectors = []; # the avg-w2v for each sentence/review is stored in this list\n",
    "for sentence in tqdm(x_train['essay'].values): # for each review/sentence\n",
    "    vector = np.zeros(300) # as word vectors are of zero length\n",
    "    tf_idf_weight =0; # num of words with a valid vector in the sentence/review\n",
    "    for word in sentence.split(): # for each word in a review/sentence\n",
    "        if (word in glove_words) and (word in tfidf_words):\n",
    "            vec = model[word] # getting the vector for each word\n",
    "            # here we are multiplying idf value(dictionary[word]) and the tf value((sentence.count(word)/len(sentence.split())))\n",
    "            tf_idf = dictionary[word]*(sentence.count(word)/len(sentence.split())) # getting the tfidf value for each word\n",
    "            vector += (vec * tf_idf) # calculating tfidf weighted w2v\n",
    "            tf_idf_weight += tf_idf\n",
    "    if tf_idf_weight != 0:\n",
    "        vector /= tf_idf_weight\n",
    "    x_train_tfidf_w2v_vectors.append(vector)\n",
    "print()\n",
    "print(len(x_train_tfidf_w2v_vectors))\n",
    "print(len(x_train_tfidf_w2v_vectors[0]))"
   ]
  },
  {
   "cell_type": "code",
   "execution_count": null,
   "metadata": {
    "colab": {
     "base_uri": "https://localhost:8080/"
    },
    "id": "GxpJxWjt5wiH",
    "outputId": "573ba7c5-1823-4189-fb7f-05bb657075cd"
   },
   "outputs": [
    {
     "name": "stderr",
     "output_type": "stream",
     "text": [
      "100%|██████████| 27312/27312 [00:49<00:00, 556.77it/s]"
     ]
    },
    {
     "name": "stdout",
     "output_type": "stream",
     "text": [
      "\n",
      "27312\n",
      "300\n"
     ]
    },
    {
     "name": "stderr",
     "output_type": "stream",
     "text": [
      "\n"
     ]
    }
   ],
   "source": [
    "# average Word2Vec\n",
    "# compute average word2vec for each review.\n",
    "x_test_tfidf_w2v_vectors = []; # the avg-w2v for each sentence/review is stored in this list\n",
    "for sentence in tqdm(x_test['essay'].values): # for each review/sentence\n",
    "    vector = np.zeros(300) # as word vectors are of zero length\n",
    "    tf_idf_weight =0; # num of words with a valid vector in the sentence/review\n",
    "    for word in sentence.split(): # for each word in a review/sentence\n",
    "        if (word in glove_words) and (word in tfidf_words):\n",
    "            vec = model[word] # getting the vector for each word\n",
    "            # here we are multiplying idf value(dictionary[word]) and the tf value((sentence.count(word)/len(sentence.split())))\n",
    "            tf_idf = dictionary[word]*(sentence.count(word)/len(sentence.split())) # getting the tfidf value for each word\n",
    "            vector += (vec * tf_idf) # calculating tfidf weighted w2v\n",
    "            tf_idf_weight += tf_idf\n",
    "    if tf_idf_weight != 0:\n",
    "        vector /= tf_idf_weight\n",
    "    x_test_tfidf_w2v_vectors.append(vector)\n",
    "print()\n",
    "print(len(x_test_tfidf_w2v_vectors))\n",
    "print(len(x_test_tfidf_w2v_vectors[0]))"
   ]
  },
  {
   "cell_type": "code",
   "execution_count": null,
   "metadata": {
    "id": "BXjLaM5Y-2Go"
   },
   "outputs": [],
   "source": [
    "from scipy.sparse import coo_matrix"
   ]
  },
  {
   "cell_type": "code",
   "execution_count": null,
   "metadata": {
    "id": "gOb4-WC381zz"
   },
   "outputs": [],
   "source": [
    "x_train_tfidf_w2v_vectors=coo_matrix(np.array(x_train_tfidf_w2v_vectors))\n",
    "x_test_tfidf_w2v_vectors=coo_matrix(np.array(x_test_tfidf_w2v_vectors))"
   ]
  },
  {
   "cell_type": "code",
   "execution_count": null,
   "metadata": {
    "colab": {
     "base_uri": "https://localhost:8080/"
    },
    "id": "N4jU2_r99Ir2",
    "outputId": "085d6041-83ac-4935-d4e2-c17064b5e5ce"
   },
   "outputs": [
    {
     "data": {
      "text/plain": [
       "(81936, 300)"
      ]
     },
     "execution_count": 27,
     "metadata": {},
     "output_type": "execute_result"
    }
   ],
   "source": [
    "x_train_tfidf_w2v_vectors.shape"
   ]
  },
  {
   "cell_type": "markdown",
   "metadata": {
    "id": "9QGoZPxMzrBG"
   },
   "source": [
    "# Set-2"
   ]
  },
  {
   "cell_type": "code",
   "execution_count": null,
   "metadata": {
    "id": "eNfTzYQg6Dfg"
   },
   "outputs": [],
   "source": [
    "x_train_final_set2=hstack([x_train_school_state.values,x_train_teacher_prefix.values,x_train_project_grade_category.values,x_train_clean_categories.values,x_train_clean_subcategories.values,x_train_price,x_train_teacher_number_of_previously_posted_projects,x_train_tfidf_w2v_vectors])\n",
    "x_test_final_set2=hstack([x_test_school_state.values,x_test_teacher_prefix.values,x_test_project_grade_category.values,x_test_clean_categories.values,x_test_clean_subcategories.values,x_test_price,x_test_teacher_number_of_previously_posted_projects,x_test_tfidf_w2v_vectors])"
   ]
  },
  {
   "cell_type": "markdown",
   "metadata": {
    "id": "I5wDFj17sc3-"
   },
   "source": [
    "<h2>1.5 Appling Models on different kind of featurization as mentioned in the instructions</h2>"
   ]
  },
  {
   "cell_type": "markdown",
   "metadata": {
    "id": "Aa3vmZ2tzuJx"
   },
   "source": [
    "# model-1"
   ]
  },
  {
   "cell_type": "markdown",
   "metadata": {
    "id": "O5tWox1jsc3_"
   },
   "source": [
    "<br>Apply GBDT on different kind of featurization as mentioned in the instructions\n",
    "<br> For Every model that you work on make sure you do the step 2 and step 3 of instrucations"
   ]
  },
  {
   "cell_type": "code",
   "execution_count": null,
   "metadata": {
    "colab": {
     "base_uri": "https://localhost:8080/"
    },
    "id": "ARWulYUwsc4B",
    "outputId": "5698ebd6-e26a-4327-a019-7b9ef64d3139"
   },
   "outputs": [
    {
     "name": "stderr",
     "output_type": "stream",
     "text": [
      "/home/ubuntu/.local/lib/python3.9/site-packages/xgboost/compat.py:36: FutureWarning: pandas.Int64Index is deprecated and will be removed from pandas in a future version. Use pandas.Index with the appropriate dtype instead.\n",
      "  from pandas import MultiIndex, Int64Index\n"
     ]
    }
   ],
   "source": [
    "# please write all the code with proper documentation, and proper titles for each subsection\n",
    "# go through documentations and blogs before you start coding\n",
    "# first figure out what to do, and then think about how to do.\n",
    "# reading and understanding error messages will be very much helpfull in debugging your code\n",
    "# when you plot any graph make sure you use \n",
    "    # a. Title, that describes your plot, this will be very helpful to the reader\n",
    "    # b. Legends if needed\n",
    "    # c. X-axis label\n",
    "    # d. Y-axis \n",
    "from xgboost import XGBClassifier\n",
    "model = XGBClassifier(random_state=10)"
   ]
  },
  {
   "cell_type": "code",
   "execution_count": null,
   "metadata": {
    "id": "yiA0bxi7c0N0"
   },
   "outputs": [],
   "source": [
    "from sklearn.model_selection import GridSearchCV\n",
    "paras={'n_estimators':[100,150,200,250],'max_depth':[2,3,4]}\n",
    "model_1=GridSearchCV(model,param_grid=paras,scoring='roc_auc',return_train_score=True,cv=10,n_jobs=-1)"
   ]
  },
  {
   "cell_type": "code",
   "execution_count": null,
   "metadata": {
    "colab": {
     "base_uri": "https://localhost:8080/"
    },
    "id": "-bBd8V6SFXCA",
    "outputId": "a994142a-f582-4408-de24-e113649b17e9"
   },
   "outputs": [
    {
     "data": {
      "text/plain": [
       "(81936, 50429)"
      ]
     },
     "execution_count": 31,
     "metadata": {},
     "output_type": "execute_result"
    }
   ],
   "source": [
    "x_train_final.shape"
   ]
  },
  {
   "cell_type": "code",
   "execution_count": null,
   "metadata": {
    "colab": {
     "base_uri": "https://localhost:8080/"
    },
    "id": "DzUNQ5mEeKCp",
    "outputId": "8c1edc0e-a193-4746-bf6c-98c34034d5aa"
   },
   "outputs": [
    {
     "name": "stderr",
     "output_type": "stream",
     "text": [
      "/home/ubuntu/.local/lib/python3.9/site-packages/xgboost/sklearn.py:1224: UserWarning: The use of label encoder in XGBClassifier is deprecated and will be removed in a future release. To remove this warning, do the following: 1) Pass option use_label_encoder=False when constructing XGBClassifier object; and 2) Encode your labels (y) as integers starting with 0, i.e. 0, 1, 2, ..., [num_class - 1].\n",
      "  warnings.warn(label_encoder_deprecation_msg, UserWarning)\n"
     ]
    },
    {
     "name": "stdout",
     "output_type": "stream",
     "text": [
      "[14:59:36] WARNING: /workspace/src/learner.cc:1115: Starting in XGBoost 1.3.0, the default evaluation metric used with the objective 'binary:logistic' was changed from 'error' to 'logloss'. Explicitly set eval_metric if you'd like to restore the old behavior.\n"
     ]
    },
    {
     "data": {
      "text/plain": [
       "GridSearchCV(cv=10,\n",
       "             estimator=XGBClassifier(base_score=None, booster=None,\n",
       "                                     colsample_bylevel=None,\n",
       "                                     colsample_bynode=None,\n",
       "                                     colsample_bytree=None,\n",
       "                                     enable_categorical=False, gamma=None,\n",
       "                                     gpu_id=None, importance_type=None,\n",
       "                                     interaction_constraints=None,\n",
       "                                     learning_rate=None, max_delta_step=None,\n",
       "                                     max_depth=None, min_child_weight=None,\n",
       "                                     missing=nan, monotone_constraints=None,\n",
       "                                     n_estimators=100, n_jobs=None,\n",
       "                                     num_parallel_tree=None, predictor=None,\n",
       "                                     random_state=10, reg_alpha=None,\n",
       "                                     reg_lambda=None, scale_pos_weight=None,\n",
       "                                     subsample=None, tree_method=None,\n",
       "                                     validate_parameters=None, verbosity=None),\n",
       "             n_jobs=-1,\n",
       "             param_grid={'max_depth': [2, 3, 4],\n",
       "                         'n_estimators': [100, 150, 200, 250]},\n",
       "             return_train_score=True, scoring='roc_auc')"
      ]
     },
     "execution_count": 32,
     "metadata": {},
     "output_type": "execute_result"
    }
   ],
   "source": [
    "model_1.fit(x_train_final,y_train)"
   ]
  },
  {
   "cell_type": "code",
   "execution_count": null,
   "metadata": {
    "colab": {
     "base_uri": "https://localhost:8080/"
    },
    "id": "7RcV90DVfAXK",
    "outputId": "123015ff-61a0-48c5-b059-ab939b6216cd"
   },
   "outputs": [
    {
     "data": {
      "text/plain": [
       "{'max_depth': 2, 'n_estimators': 250}"
      ]
     },
     "execution_count": 33,
     "metadata": {},
     "output_type": "execute_result"
    }
   ],
   "source": [
    "model_1.best_params_"
   ]
  },
  {
   "cell_type": "code",
   "execution_count": null,
   "metadata": {
    "id": "zlORxDgWgc8i"
   },
   "outputs": [],
   "source": [
    "train_map=pd.DataFrame(data=model_1.cv_results_['mean_train_score'].reshape(3,4),index=paras['max_depth'],columns=paras['n_estimators'])\n",
    "test_map=pd.DataFrame(data=model_1.cv_results_['mean_test_score'].reshape(3,4),index=paras['max_depth'],columns=paras['n_estimators'])"
   ]
  },
  {
   "cell_type": "code",
   "execution_count": null,
   "metadata": {
    "id": "eWYQ1UENgw3g"
   },
   "outputs": [],
   "source": [
    "import seaborn as sns\n",
    "import matplotlib.pyplot as plt"
   ]
  },
  {
   "cell_type": "code",
   "execution_count": null,
   "metadata": {
    "colab": {
     "base_uri": "https://localhost:8080/",
     "height": 296
    },
    "id": "_vMyqmntg2Vo",
    "outputId": "a6518142-d109-49dd-9e64-7847be956065"
   },
   "outputs": [
    {
     "data": {
      "image/png": "[encoded data removed]",
      "text/plain": [
       "<Figure size 432x288 with 2 Axes>"
      ]
     },
     "metadata": {
      "needs_background": "light"
     },
     "output_type": "display_data"
    }
   ],
   "source": [
    "sns.heatmap(train_map,annot=True)\n",
    "plt.xlabel('n_estimator')\n",
    "plt.ylabel('max depth')\n",
    "plt.title('train heat map')\n",
    "plt.show()"
   ]
  },
  {
   "cell_type": "code",
   "execution_count": null,
   "metadata": {
    "colab": {
     "base_uri": "https://localhost:8080/",
     "height": 296
    },
    "id": "niXeYNxog9u2",
    "outputId": "8703e477-087e-40f7-968d-d10deebb7a9e"
   },
   "outputs": [
    {
     "data": {
      "image/png": "[encoded data removed]",
      "text/plain": [
       "<Figure size 432x288 with 2 Axes>"
      ]
     },
     "metadata": {
      "needs_background": "light"
     },
     "output_type": "display_data"
    }
   ],
   "source": [
    "sns.heatmap(test_map,annot=True)\n",
    "plt.xlabel('n_estimator')\n",
    "plt.ylabel('max depth')\n",
    "plt.title('validation heat map')\n",
    "plt.show()"
   ]
  },
  {
   "cell_type": "code",
   "execution_count": null,
   "metadata": {
    "colab": {
     "base_uri": "https://localhost:8080/"
    },
    "id": "G6Wp0ODGiobJ",
    "outputId": "ac033f5f-5f73-45ee-8f20-3622ff375058"
   },
   "outputs": [
    {
     "data": {
      "text/plain": [
       "{'max_depth': 2, 'n_estimators': 250}"
      ]
     },
     "execution_count": 39,
     "metadata": {},
     "output_type": "execute_result"
    }
   ],
   "source": [
    "model_1.best_params_"
   ]
  },
  {
   "cell_type": "code",
   "execution_count": null,
   "metadata": {
    "colab": {
     "base_uri": "https://localhost:8080/"
    },
    "id": "4MwFjrhHiaan",
    "outputId": "08cdff08-c68b-4eb0-f931-3d544d5c9e5e"
   },
   "outputs": [
    {
     "name": "stderr",
     "output_type": "stream",
     "text": [
      "/home/ubuntu/.local/lib/python3.9/site-packages/xgboost/sklearn.py:1224: UserWarning: The use of label encoder in XGBClassifier is deprecated and will be removed in a future release. To remove this warning, do the following: 1) Pass option use_label_encoder=False when constructing XGBClassifier object; and 2) Encode your labels (y) as integers starting with 0, i.e. 0, 1, 2, ..., [num_class - 1].\n",
      "  warnings.warn(label_encoder_deprecation_msg, UserWarning)\n"
     ]
    },
    {
     "name": "stdout",
     "output_type": "stream",
     "text": [
      "[15:00:57] WARNING: /workspace/src/learner.cc:1115: Starting in XGBoost 1.3.0, the default evaluation metric used with the objective 'binary:logistic' was changed from 'error' to 'logloss'. Explicitly set eval_metric if you'd like to restore the old behavior.\n"
     ]
    },
    {
     "data": {
      "text/plain": [
       "XGBClassifier(base_score=0.5, booster='gbtree', colsample_bylevel=1,\n",
       "              colsample_bynode=1, colsample_bytree=1, enable_categorical=False,\n",
       "              gamma=0, gpu_id=-1, importance_type=None,\n",
       "              interaction_constraints='', learning_rate=0.300000012,\n",
       "              max_delta_step=0, max_depth=2, min_child_weight=1, missing=nan,\n",
       "              monotone_constraints='()', n_estimators=250, n_jobs=4,\n",
       "              num_parallel_tree=1, predictor='auto', random_state=10,\n",
       "              reg_alpha=0, reg_lambda=1, scale_pos_weight=1, subsample=1,\n",
       "              tree_method='exact', validate_parameters=1, verbosity=None)"
      ]
     },
     "execution_count": 40,
     "metadata": {},
     "output_type": "execute_result"
    }
   ],
   "source": [
    "from xgboost import XGBClassifier\n",
    "model = XGBClassifier(n_estimators=model_1.best_params_['n_estimators'],max_depth=model_1.best_params_['max_depth'],random_state=10)\n",
    "model.fit(x_train_final,y_train)"
   ]
  },
  {
   "cell_type": "code",
   "execution_count": null,
   "metadata": {
    "id": "4nZw_Kefizc8"
   },
   "outputs": [],
   "source": [
    "predict_train=model.predict_proba(x_train_final)\n",
    "predict_train=predict_train.T[1].T\n",
    "predict_test=model.predict_proba(x_test_final)\n",
    "predict_test=predict_test.T[1].T"
   ]
  },
  {
   "cell_type": "code",
   "execution_count": null,
   "metadata": {
    "colab": {
     "base_uri": "https://localhost:8080/"
    },
    "id": "HCgArcS-jN3k",
    "outputId": "64f09356-859b-4341-f02a-0673adc071e3"
   },
   "outputs": [
    {
     "name": "stdout",
     "output_type": "stream",
     "text": [
      "accuracy on training data 0.855472563952353 \n",
      "accuracy on test data 0.8515304628002344 \n"
     ]
    }
   ],
   "source": [
    "print(\"accuracy on training data {} \".format(model.score(x_train_final,y_train)))\n",
    "print(\"accuracy on test data {} \".format(model.score(x_test_final,y_test)))"
   ]
  },
  {
   "cell_type": "code",
   "execution_count": null,
   "metadata": {
    "colab": {
     "base_uri": "https://localhost:8080/",
     "height": 295
    },
    "id": "gB3HBuQDjhRz",
    "outputId": "46261555-86b6-453a-cf31-159dc541f2f2"
   },
   "outputs": [
    {
     "data": {
      "image/png": "[encoded data removed]",
      "text/plain": [
       "<Figure size 432x288 with 1 Axes>"
      ]
     },
     "metadata": {
      "needs_background": "light"
     },
     "output_type": "display_data"
    }
   ],
   "source": [
    "from sklearn.metrics import roc_curve,auc\n",
    "import numpy as np\n",
    "fpr,tpr,thres=roc_curve(y_train,predict_train)\n",
    "plt.plot(fpr,tpr,label='train auc value  {}'.format(auc(fpr,tpr)))\n",
    "plt.xlabel('fpr')\n",
    "plt.ylabel('tpr')\n",
    "plt.legend()\n",
    "#plt.title('roc_curve for train')\n",
    "fpr,tpr,thres=roc_curve(y_test,predict_test)\n",
    "plt.plot(fpr,tpr,label='test auc value  {}'.format(auc(fpr,tpr)))\n",
    "plt.xlabel('fpr')\n",
    "plt.ylabel('tpr')\n",
    "plt.legend()\n",
    "plt.title('roc_curve')\n",
    "plt.show()"
   ]
  },
  {
   "cell_type": "markdown",
   "metadata": {
    "id": "4SLC4uwkl76u"
   },
   "source": [
    "best threshold"
   ]
  },
  {
   "cell_type": "code",
   "execution_count": null,
   "metadata": {
    "id": "5wwFa9voljt8"
   },
   "outputs": [],
   "source": [
    "def best_threshold(fpr,tpr,thres):\n",
    "    return thres[np.argmax(tpr*(1-fpr))]\n",
    "def after_best_threshold(x,thres):\n",
    "    label=[ ]\n",
    "    for i in x:\n",
    "        if i<thres:\n",
    "            label.append(0)\n",
    "        else:\n",
    "            label.append(1)\n",
    "    return label"
   ]
  },
  {
   "cell_type": "code",
   "execution_count": null,
   "metadata": {
    "colab": {
     "base_uri": "https://localhost:8080/"
    },
    "id": "SHiSsuMZ0h9Y",
    "outputId": "d0688fec-6dba-4efa-e97c-f4d6e58c55a9"
   },
   "outputs": [
    {
     "data": {
      "text/plain": [
       "0.9978115"
      ]
     },
     "execution_count": 45,
     "metadata": {},
     "output_type": "execute_result"
    }
   ],
   "source": [
    "predict_train.max()"
   ]
  },
  {
   "cell_type": "code",
   "execution_count": null,
   "metadata": {
    "id": "iOa44BFomgtd"
   },
   "outputs": [],
   "source": [
    "fpr,tpr,thres=roc_curve(y_train,predict_train)\n",
    "b=best_threshold(fpr,tpr,thres)"
   ]
  },
  {
   "cell_type": "code",
   "execution_count": null,
   "metadata": {
    "id": "4ya6zUv-mizd"
   },
   "outputs": [],
   "source": [
    "from sklearn.metrics import confusion_matrix\n",
    "predict_train_after_best_thresh=after_best_threshold(predict_train,b)\n",
    "predict_test_after_best_thresh=after_best_threshold(predict_test,b)"
   ]
  },
  {
   "cell_type": "code",
   "execution_count": null,
   "metadata": {
    "colab": {
     "base_uri": "https://localhost:8080/",
     "height": 281
    },
    "id": "hrKHkGMYnjS2",
    "outputId": "9b33cde3-6662-46d6-bf0b-b5594281cf2e"
   },
   "outputs": [
    {
     "data": {
      "image/png": "[encoded data removed]",
      "text/plain": [
       "<Figure size 432x288 with 2 Axes>"
      ]
     },
     "metadata": {
      "needs_background": "light"
     },
     "output_type": "display_data"
    }
   ],
   "source": [
    "cm=confusion_matrix(y_train,predict_train_after_best_thresh).T\n",
    "temp=pd.DataFrame(data=cm,columns=['actual 0','actual 1'],index=['predicted 0','predicted 1'])\n",
    "sns.heatmap(temp,annot=True,fmt='d')\n",
    "plt.title('confusion matrix for train data')\n",
    "plt.show()"
   ]
  },
  {
   "cell_type": "code",
   "execution_count": null,
   "metadata": {
    "colab": {
     "base_uri": "https://localhost:8080/",
     "height": 281
    },
    "id": "dkg8IKvZorC3",
    "outputId": "5f1d03a7-ce3b-4dbf-d6ce-3e820d8a4609"
   },
   "outputs": [
    {
     "data": {
      "image/png": "[encoded data removed]",
      "text/plain": [
       "<Figure size 432x288 with 2 Axes>"
      ]
     },
     "metadata": {
      "needs_background": "light"
     },
     "output_type": "display_data"
    }
   ],
   "source": [
    "cm=confusion_matrix(y_test,predict_test_after_best_thresh).T\n",
    "temp=pd.DataFrame(data=cm,columns=['actual 0','actual 1'],index=['predicted 0','predicted 1'])\n",
    "sns.heatmap(temp,annot=True,fmt='d')\n",
    "plt.title('confusion matrix for test data')\n",
    "plt.show()"
   ]
  },
  {
   "cell_type": "code",
   "execution_count": null,
   "metadata": {
    "id": "OJhQVCm3AEwd"
   },
   "outputs": [],
   "source": []
  },
  {
   "cell_type": "code",
   "execution_count": null,
   "metadata": {
    "id": "aA-G4JXLAFF1"
   },
   "outputs": [],
   "source": []
  },
  {
   "cell_type": "markdown",
   "metadata": {
    "id": "wKavrAIAz0MH"
   },
   "source": [
    "# model-2"
   ]
  },
  {
   "cell_type": "code",
   "execution_count": null,
   "metadata": {
    "id": "vaIeow2mAWli"
   },
   "outputs": [],
   "source": [
    "# please write all the code with proper documentation, and proper titles for each subsection\n",
    "# go through documentations and blogs before you start coding\n",
    "# first figure out what to do, and then think about how to do.\n",
    "# reading and understanding error messages will be very much helpfull in debugging your code\n",
    "# when you plot any graph make sure you use \n",
    "    # a. Title, that describes your plot, this will be very helpful to the reader\n",
    "    # b. Legends if needed\n",
    "    # c. X-axis label\n",
    "    # d. Y-axis \n",
    "from xgboost import XGBClassifier\n",
    "model = XGBClassifier(random_state=10)"
   ]
  },
  {
   "cell_type": "code",
   "execution_count": null,
   "metadata": {
    "id": "cUvUURaeAWlj"
   },
   "outputs": [],
   "source": [
    "from sklearn.model_selection import GridSearchCV\n",
    "paras={'n_estimators':[100,150,200,250],'max_depth':[2,3,4]}\n",
    "model_1=GridSearchCV(model,param_grid=paras,scoring='roc_auc',return_train_score=True,cv=10,n_jobs=-1)"
   ]
  },
  {
   "cell_type": "code",
   "execution_count": null,
   "metadata": {
    "colab": {
     "base_uri": "https://localhost:8080/"
    },
    "id": "woRJmc2NAWlj",
    "outputId": "8588a5b6-b63c-4717-fb3d-f3af61d760c8"
   },
   "outputs": [
    {
     "name": "stderr",
     "output_type": "stream",
     "text": [
      "/home/ubuntu/.local/lib/python3.9/site-packages/xgboost/sklearn.py:1224: UserWarning: The use of label encoder in XGBClassifier is deprecated and will be removed in a future release. To remove this warning, do the following: 1) Pass option use_label_encoder=False when constructing XGBClassifier object; and 2) Encode your labels (y) as integers starting with 0, i.e. 0, 1, 2, ..., [num_class - 1].\n",
      "  warnings.warn(label_encoder_deprecation_msg, UserWarning)\n"
     ]
    },
    {
     "name": "stdout",
     "output_type": "stream",
     "text": [
      "[18:37:53] WARNING: /workspace/src/learner.cc:1115: Starting in XGBoost 1.3.0, the default evaluation metric used with the objective 'binary:logistic' was changed from 'error' to 'logloss'. Explicitly set eval_metric if you'd like to restore the old behavior.\n"
     ]
    },
    {
     "data": {
      "text/plain": [
       "GridSearchCV(cv=10,\n",
       "             estimator=XGBClassifier(base_score=None, booster=None,\n",
       "                                     colsample_bylevel=None,\n",
       "                                     colsample_bynode=None,\n",
       "                                     colsample_bytree=None,\n",
       "                                     enable_categorical=False, gamma=None,\n",
       "                                     gpu_id=None, importance_type=None,\n",
       "                                     interaction_constraints=None,\n",
       "                                     learning_rate=None, max_delta_step=None,\n",
       "                                     max_depth=None, min_child_weight=None,\n",
       "                                     missing=nan, monotone_constraints=None,\n",
       "                                     n_estimators=100, n_jobs=None,\n",
       "                                     num_parallel_tree=None, predictor=None,\n",
       "                                     random_state=10, reg_alpha=None,\n",
       "                                     reg_lambda=None, scale_pos_weight=None,\n",
       "                                     subsample=None, tree_method=None,\n",
       "                                     validate_parameters=None, verbosity=None),\n",
       "             n_jobs=-1,\n",
       "             param_grid={'max_depth': [2, 3, 4],\n",
       "                         'n_estimators': [100, 150, 200, 250]},\n",
       "             return_train_score=True, scoring='roc_auc')"
      ]
     },
     "execution_count": 52,
     "metadata": {},
     "output_type": "execute_result"
    }
   ],
   "source": [
    "model_1.fit(x_train_final_set2,y_train)"
   ]
  },
  {
   "cell_type": "code",
   "execution_count": null,
   "metadata": {
    "colab": {
     "base_uri": "https://localhost:8080/"
    },
    "id": "TrCvKRVHAWlj",
    "outputId": "449b6899-b5f5-441d-e9d9-bb014a3a947d"
   },
   "outputs": [
    {
     "data": {
      "text/plain": [
       "{'max_depth': 2, 'n_estimators': 200}"
      ]
     },
     "execution_count": 53,
     "metadata": {},
     "output_type": "execute_result"
    }
   ],
   "source": [
    "model_1.best_params_"
   ]
  },
  {
   "cell_type": "code",
   "execution_count": null,
   "metadata": {
    "id": "DPrGWw-nAWlk"
   },
   "outputs": [],
   "source": [
    "train_map=pd.DataFrame(data=model_1.cv_results_['mean_train_score'].reshape(3,4),index=paras['max_depth'],columns=paras['n_estimators'])\n",
    "test_map=pd.DataFrame(data=model_1.cv_results_['mean_test_score'].reshape(3,4),index=paras['max_depth'],columns=paras['n_estimators'])"
   ]
  },
  {
   "cell_type": "code",
   "execution_count": null,
   "metadata": {
    "colab": {
     "base_uri": "https://localhost:8080/",
     "height": 143
    },
    "id": "RgSZsZ7mAWlk",
    "outputId": "44f4606d-4ba8-40b7-c64f-962c0ea58e81"
   },
   "outputs": [
    {
     "data": {
      "text/html": [
       "<div>\n",
       "<style scoped>\n",
       "    .dataframe tbody tr th:only-of-type {\n",
       "        vertical-align: middle;\n",
       "    }\n",
       "\n",
       "    .dataframe tbody tr th {\n",
       "        vertical-align: top;\n",
       "    }\n",
       "\n",
       "    .dataframe thead th {\n",
       "        text-align: right;\n",
       "    }\n",
       "</style>\n",
       "<table border=\"1\" class=\"dataframe\">\n",
       "  <thead>\n",
       "    <tr style=\"text-align: right;\">\n",
       "      <th></th>\n",
       "      <th>100</th>\n",
       "      <th>150</th>\n",
       "      <th>200</th>\n",
       "      <th>250</th>\n",
       "    </tr>\n",
       "  </thead>\n",
       "  <tbody>\n",
       "    <tr>\n",
       "      <th>2</th>\n",
       "      <td>0.747299</td>\n",
       "      <td>0.760961</td>\n",
       "      <td>0.772109</td>\n",
       "      <td>0.781827</td>\n",
       "    </tr>\n",
       "    <tr>\n",
       "      <th>3</th>\n",
       "      <td>0.786120</td>\n",
       "      <td>0.809445</td>\n",
       "      <td>0.829814</td>\n",
       "      <td>0.847021</td>\n",
       "    </tr>\n",
       "    <tr>\n",
       "      <th>4</th>\n",
       "      <td>0.838840</td>\n",
       "      <td>0.873382</td>\n",
       "      <td>0.900610</td>\n",
       "      <td>0.922188</td>\n",
       "    </tr>\n",
       "  </tbody>\n",
       "</table>\n",
       "</div>"
      ],
      "text/plain": [
       "        100       150       200       250\n",
       "2  0.747299  0.760961  0.772109  0.781827\n",
       "3  0.786120  0.809445  0.829814  0.847021\n",
       "4  0.838840  0.873382  0.900610  0.922188"
      ]
     },
     "execution_count": 55,
     "metadata": {},
     "output_type": "execute_result"
    }
   ],
   "source": [
    "train_map"
   ]
  },
  {
   "cell_type": "code",
   "execution_count": null,
   "metadata": {
    "id": "2x8sR0Y4AWlk"
   },
   "outputs": [],
   "source": [
    "import seaborn as sns\n",
    "import matplotlib.pyplot as plt"
   ]
  },
  {
   "cell_type": "code",
   "execution_count": null,
   "metadata": {
    "colab": {
     "base_uri": "https://localhost:8080/",
     "height": 296
    },
    "id": "GWvtNlrjAWlk",
    "outputId": "0707af94-6f84-4f2d-b1a6-7fb400427ebb"
   },
   "outputs": [
    {
     "data": {
      "image/png": "[encoded data removed]",
      "text/plain": [
       "<Figure size 432x288 with 2 Axes>"
      ]
     },
     "metadata": {
      "needs_background": "light"
     },
     "output_type": "display_data"
    }
   ],
   "source": [
    "sns.heatmap(train_map,annot=True)\n",
    "plt.xlabel('n_estimator')\n",
    "plt.ylabel('max depth')\n",
    "plt.title('train heat map')\n",
    "plt.show()"
   ]
  },
  {
   "cell_type": "code",
   "execution_count": null,
   "metadata": {
    "colab": {
     "base_uri": "https://localhost:8080/",
     "height": 296
    },
    "id": "3usqIaKOAWll",
    "outputId": "47f3911c-a502-41a2-903e-fac74feb9d21"
   },
   "outputs": [
    {
     "data": {
      "image/png": "[encoded data removed]",
      "text/plain": [
       "<Figure size 432x288 with 2 Axes>"
      ]
     },
     "metadata": {
      "needs_background": "light"
     },
     "output_type": "display_data"
    }
   ],
   "source": [
    "sns.heatmap(test_map,annot=True)\n",
    "plt.xlabel('n_estimator')\n",
    "plt.ylabel('max depth')\n",
    "plt.title('validation heat map')\n",
    "plt.show()"
   ]
  },
  {
   "cell_type": "code",
   "execution_count": null,
   "metadata": {
    "colab": {
     "base_uri": "https://localhost:8080/"
    },
    "id": "NK7O3G03AWll",
    "outputId": "ba99c3a0-1007-4e16-b1cc-4e913bfe1423"
   },
   "outputs": [
    {
     "data": {
      "text/plain": [
       "{'max_depth': 2, 'n_estimators': 200}"
      ]
     },
     "execution_count": 59,
     "metadata": {},
     "output_type": "execute_result"
    }
   ],
   "source": [
    "model_1.best_params_"
   ]
  },
  {
   "cell_type": "code",
   "execution_count": null,
   "metadata": {
    "colab": {
     "base_uri": "https://localhost:8080/"
    },
    "id": "JknnuU6KAWll",
    "outputId": "1aa27c01-726e-464c-c57f-979478297169"
   },
   "outputs": [
    {
     "name": "stderr",
     "output_type": "stream",
     "text": [
      "/home/ubuntu/.local/lib/python3.9/site-packages/xgboost/sklearn.py:1224: UserWarning: The use of label encoder in XGBClassifier is deprecated and will be removed in a future release. To remove this warning, do the following: 1) Pass option use_label_encoder=False when constructing XGBClassifier object; and 2) Encode your labels (y) as integers starting with 0, i.e. 0, 1, 2, ..., [num_class - 1].\n",
      "  warnings.warn(label_encoder_deprecation_msg, UserWarning)\n"
     ]
    },
    {
     "name": "stdout",
     "output_type": "stream",
     "text": [
      "[18:39:24] WARNING: /workspace/src/learner.cc:1115: Starting in XGBoost 1.3.0, the default evaluation metric used with the objective 'binary:logistic' was changed from 'error' to 'logloss'. Explicitly set eval_metric if you'd like to restore the old behavior.\n"
     ]
    },
    {
     "data": {
      "text/plain": [
       "XGBClassifier(base_score=0.5, booster='gbtree', colsample_bylevel=1,\n",
       "              colsample_bynode=1, colsample_bytree=1, enable_categorical=False,\n",
       "              gamma=0, gpu_id=-1, importance_type=None,\n",
       "              interaction_constraints='', learning_rate=0.300000012,\n",
       "              max_delta_step=0, max_depth=2, min_child_weight=1, missing=nan,\n",
       "              monotone_constraints='()', n_estimators=200, n_jobs=4,\n",
       "              num_parallel_tree=1, predictor='auto', random_state=10,\n",
       "              reg_alpha=0, reg_lambda=1, scale_pos_weight=1, subsample=1,\n",
       "              tree_method='exact', validate_parameters=1, verbosity=None)"
      ]
     },
     "execution_count": 60,
     "metadata": {},
     "output_type": "execute_result"
    }
   ],
   "source": [
    "from xgboost import XGBClassifier\n",
    "model = XGBClassifier(n_estimators=model_1.best_params_['n_estimators'],max_depth=model_1.best_params_['max_depth'],random_state=10)\n",
    "model.fit(x_train_final_set2,y_train)"
   ]
  },
  {
   "cell_type": "code",
   "execution_count": null,
   "metadata": {
    "id": "R-kMYliIAWlm"
   },
   "outputs": [],
   "source": [
    "predict_train=model.predict_proba(x_train_final_set2)\n",
    "predict_train=predict_train.T[1].T\n",
    "predict_test=model.predict_proba(x_test_final_set2)\n",
    "predict_test=predict_test.T[1].T"
   ]
  },
  {
   "cell_type": "code",
   "execution_count": null,
   "metadata": {
    "colab": {
     "base_uri": "https://localhost:8080/"
    },
    "id": "Rquet5tPAWlm",
    "outputId": "3f73e421-5b16-44f4-9d1c-65fe3da116e1"
   },
   "outputs": [
    {
     "name": "stdout",
     "output_type": "stream",
     "text": [
      "accuracy on training data 0.8538493458308924 \n",
      "accuracy on test data 0.8499926772114821 \n"
     ]
    }
   ],
   "source": [
    "print(\"accuracy on training data {} \".format(model.score(x_train_final_set2,y_train)))\n",
    "print(\"accuracy on test data {} \".format(model.score(x_test_final_set2,y_test)))"
   ]
  },
  {
   "cell_type": "code",
   "execution_count": null,
   "metadata": {
    "colab": {
     "base_uri": "https://localhost:8080/",
     "height": 295
    },
    "id": "FH_DEkBAAWln",
    "outputId": "9993239c-e22f-496d-dcc3-189d168e7515"
   },
   "outputs": [
    {
     "data": {
      "image/png": "[encoded data removed]",
      "text/plain": [
       "<Figure size 432x288 with 1 Axes>"
      ]
     },
     "metadata": {
      "needs_background": "light"
     },
     "output_type": "display_data"
    }
   ],
   "source": [
    "from sklearn.metrics import roc_curve,auc\n",
    "import numpy as np\n",
    "fpr,tpr,thres=roc_curve(y_train,predict_train)\n",
    "plt.plot(fpr,tpr,label='train auc value  {}'.format(auc(fpr,tpr)))\n",
    "plt.xlabel('fpr')\n",
    "plt.ylabel('tpr')\n",
    "plt.legend()\n",
    "#plt.title('roc_curve for train')\n",
    "fpr,tpr,thres=roc_curve(y_test,predict_test)\n",
    "plt.plot(fpr,tpr,label='test auc value  {}'.format(auc(fpr,tpr)))\n",
    "plt.xlabel('fpr')\n",
    "plt.ylabel('tpr')\n",
    "plt.legend()\n",
    "plt.title('roc_curve')\n",
    "plt.show()"
   ]
  },
  {
   "cell_type": "code",
   "execution_count": null,
   "metadata": {
    "id": "iOahkmwMAWln"
   },
   "outputs": [],
   "source": [
    "def best_threshold(fpr,tpr,thres):\n",
    "    return thres[np.argmax(tpr*(1-fpr))]\n",
    "def after_best_threshold(x,thres):\n",
    "    label=[ ]\n",
    "    for i in x:\n",
    "        if i<thres:\n",
    "            label.append(0)\n",
    "        else:\n",
    "            label.append(1)\n",
    "    return label"
   ]
  },
  {
   "cell_type": "code",
   "execution_count": null,
   "metadata": {
    "id": "fyPbey30AWlo"
   },
   "outputs": [],
   "source": [
    "fpr,tpr,thres=roc_curve(y_train,predict_train)\n",
    "b=best_threshold(fpr,tpr,thres)"
   ]
  },
  {
   "cell_type": "code",
   "execution_count": null,
   "metadata": {
    "id": "-wQyLaYgAWlo"
   },
   "outputs": [],
   "source": [
    "from sklearn.metrics import confusion_matrix\n",
    "predict_train_after_best_thresh=after_best_threshold(predict_train,b)\n",
    "predict_test_after_best_thresh=after_best_threshold(predict_test,b)"
   ]
  },
  {
   "cell_type": "code",
   "execution_count": null,
   "metadata": {
    "colab": {
     "base_uri": "https://localhost:8080/",
     "height": 281
    },
    "id": "Cjgoj_86AWlo",
    "outputId": "9f7aaee7-edc6-43b2-f900-65fbae34b8f0"
   },
   "outputs": [
    {
     "data": {
      "image/png": "[encoded data removed]",
      "text/plain": [
       "<Figure size 432x288 with 2 Axes>"
      ]
     },
     "metadata": {
      "needs_background": "light"
     },
     "output_type": "display_data"
    }
   ],
   "source": [
    "cm=confusion_matrix(y_train,predict_train_after_best_thresh).T\n",
    "temp=pd.DataFrame(data=cm,columns=['actual 0','actual 1'],index=['predicted 0','predicted 1'])\n",
    "sns.heatmap(temp,annot=True,fmt='d')\n",
    "plt.title('confusion matrix for train data')\n",
    "plt.show()"
   ]
  },
  {
   "cell_type": "code",
   "execution_count": null,
   "metadata": {
    "colab": {
     "base_uri": "https://localhost:8080/",
     "height": 281
    },
    "id": "KrDHnYKCAWlo",
    "outputId": "fb75e597-c9f4-4530-f014-a39aeaeb5810"
   },
   "outputs": [
    {
     "data": {
      "image/png": "[encoded data removed]",
      "text/plain": [
       "<Figure size 432x288 with 2 Axes>"
      ]
     },
     "metadata": {
      "needs_background": "light"
     },
     "output_type": "display_data"
    }
   ],
   "source": [
    "cm=confusion_matrix(y_test,predict_test_after_best_thresh).T\n",
    "temp=pd.DataFrame(data=cm,columns=['actual 0','actual 1'],index=['predicted 0','predicted 1'])\n",
    "sns.heatmap(temp,annot=True,fmt='d')\n",
    "plt.title('confusion matrix for test data')\n",
    "plt.show()"
   ]
  },
  {
   "cell_type": "code",
   "execution_count": null,
   "metadata": {
    "id": "tQmV-ICrExiI"
   },
   "outputs": [],
   "source": []
  },
  {
   "cell_type": "markdown",
   "metadata": {
    "id": "3RCFuGAA0BhP"
   },
   "source": [
    "# Summary"
   ]
  },
  {
   "cell_type": "code",
   "execution_count": 2,
   "metadata": {
    "colab": {
     "base_uri": "https://localhost:8080/"
    },
    "id": "nm9AOv5D0O3I",
    "outputId": "76d65e8c-bd1e-4482-b3c1-a95a3325dd3f"
   },
   "outputs": [
    {
     "name": "stdout",
     "output_type": "stream",
     "text": [
      "+-------+----------------------------------+--------------------------------+-----------+\n",
      "| model |               set                |        hyper parameters        | AUC score |\n",
      "+-------+----------------------------------+--------------------------------+-----------+\n",
      "|  GBDT |   Set1(resonsecoding + tfidf)    | max_depth=2 , n_estimators=250 |    0.72   |\n",
      "|  GBDT | set2(response coding + tfidfw2v) | max_depth=2 , n_estimators=200 |    0.70   |\n",
      "+-------+----------------------------------+--------------------------------+-----------+\n"
     ]
    }
   ],
   "source": [
    "from prettytable import PrettyTable\n",
    "  \n",
    "# Specify the Column Names while initializing the Table\n",
    "myTable = PrettyTable([\"model\",\"set\",\"hyper parameters\",'AUC score'],)\n",
    "# Add rows\n",
    "myTable.add_row([\"GBDT\", \"Set1(resonsecoding + tfidf)\", \"max_depth=2 , n_estimators=250\", '0.72'])\n",
    "myTable.add_row([\"GBDT\", \"set2(response coding + tfidfw2v)\", \"max_depth=2 , n_estimators=200\", '0.70'])\n",
    "print(myTable)"
   ]
  },
  {
   "cell_type": "code",
   "execution_count": null,
   "metadata": {
    "id": "ftadlsdn1NJk"
   },
   "outputs": [],
   "source": []
  }
 ],
 "metadata": {
  "colab": {
   "collapsed_sections": [],
   "name": "Copy of Assignment_GBDT_Instructions.ipynb",
   "provenance": []
  },
  "kernelspec": {
   "display_name": "Python 3 (ipykernel)",
   "language": "python",
   "name": "python3"
  },
  "language_info": {
   "codemirror_mode": {
    "name": "ipython",
    "version": 3
   },
   "file_extension": ".py",
   "mimetype": "text/x-python",
   "name": "python",
   "nbconvert_exporter": "python",
   "pygments_lexer": "ipython3",
   "version": "3.7.6"
  }
 },
 "nbformat": 4,
 "nbformat_minor": 1
}
