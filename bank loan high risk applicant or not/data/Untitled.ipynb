{
 "cells": [
  {
   "cell_type": "code",
   "execution_count": 110,
   "id": "8dec2bd3-e5ae-401f-a1fb-1624162c8444",
   "metadata": {},
   "outputs": [],
   "source": [
    "from sklearn.feature_selection import chi2\n",
    "import numpy as np\n",
    "import seaborn as sns\n",
    "import matplotlib.pyplot as plt"
   ]
  },
  {
   "cell_type": "code",
   "execution_count": 131,
   "id": "84f06d66-0fba-44e1-b33b-7a1d63ede0df",
   "metadata": {},
   "outputs": [
    {
     "data": {
      "text/plain": [
       "<BarContainer object of 3 artists>"
      ]
     },
     "execution_count": 131,
     "metadata": {},
     "output_type": "execute_result"
    },
    {
     "data": {
      "image/png": "[encoded data removed]",
      "text/plain": [
       "<Figure size 432x288 with 1 Axes>"
      ]
     },
     "metadata": {
      "needs_background": "light"
     },
     "output_type": "display_data"
    }
   ],
   "source": [
    "plt.bar([1,2,3],[1,2,3],color=['orange'])\n",
    "plt.bar([1,2,3],[1,2,3],bottom=[1,2,3],color=['green'])"
   ]
  },
  {
   "cell_type": "code",
   "execution_count": 132,
   "id": "a719cba4-26b5-4083-878d-1ef7a79ee7ba",
   "metadata": {},
   "outputs": [
    {
     "name": "stderr",
     "output_type": "stream",
     "text": [
      "/home/ubuntu/Downloads/enter/envs/jupyterlab/lib/python3.7/site-packages/seaborn/_decorators.py:43: FutureWarning: Pass the following variables as keyword args: x, y. From version 0.12, the only valid positional argument will be `data`, and passing other arguments without an explicit keyword will result in an error or misinterpretation.\n",
      "  FutureWarning\n"
     ]
    },
    {
     "data": {
      "text/plain": [
       "<AxesSubplot:>"
      ]
     },
     "execution_count": 132,
     "metadata": {},
     "output_type": "execute_result"
    },
    {
     "data": {
      "image/png": "[encoded data removed]",
      "text/plain": [
       "<Figure size 432x288 with 1 Axes>"
      ]
     },
     "metadata": {
      "needs_background": "light"
     },
     "output_type": "display_data"
    }
   ],
   "source": []
  },
  {
   "cell_type": "code",
   "execution_count": 109,
   "id": "574a2c14-3891-4d21-95d1-17a50db41b55",
   "metadata": {},
   "outputs": [
    {
     "data": {
      "text/plain": [
       "<AxesSubplot:ylabel='count'>"
      ]
     },
     "execution_count": 109,
     "metadata": {},
     "output_type": "execute_result"
    },
    {
     "data": {
      "image/png": "[encoded data removed]",
      "text/plain": [
       "<Figure size 432x288 with 1 Axes>"
      ]
     },
     "metadata": {
      "needs_background": "light"
     },
     "output_type": "display_data"
    }
   ],
   "source": [
    "sns.countplot(x=[2,3,4],)"
   ]
  },
  {
   "cell_type": "code",
   "execution_count": 47,
   "id": "8c35be33-db3b-4a0d-977e-ac348a326057",
   "metadata": {},
   "outputs": [],
   "source": [
    "val,p=chi2(x,y)"
   ]
  },
  {
   "cell_type": "code",
   "execution_count": 67,
   "id": "135eeead-83f1-4618-9e24-468da118cd89",
   "metadata": {},
   "outputs": [],
   "source": [
    "from sklearn.datasets import load_diabetes"
   ]
  },
  {
   "cell_type": "code",
   "execution_count": 91,
   "id": "7ee967b4-542c-47ae-9270-4586665bd0ee",
   "metadata": {},
   "outputs": [],
   "source": [
    "x,y=load_iris(return_X_y=True)"
   ]
  },
  {
   "cell_type": "code",
   "execution_count": 92,
   "id": "44326f55-74ad-4885-9861-431bdab1d098",
   "metadata": {},
   "outputs": [],
   "source": [
    "x=np.hstack([x,np.ones((150,1))])"
   ]
  },
  {
   "cell_type": "code",
   "execution_count": 104,
   "id": "f1ea5aa0-ac35-476b-8b04-3f760f15155f",
   "metadata": {},
   "outputs": [
    {
     "ename": "ValueError",
     "evalue": "Input X must be non-negative.",
     "output_type": "error",
     "traceback": [
      "\u001b[0;31m---------------------------------------------------------------------------\u001b[0m",
      "\u001b[0;31mValueError\u001b[0m                                Traceback (most recent call last)",
      "\u001b[0;32m/tmp/ipykernel_21140/3596952677.py\u001b[0m in \u001b[0;36m<module>\u001b[0;34m\u001b[0m\n\u001b[0;32m----> 1\u001b[0;31m \u001b[0mchi2\u001b[0m\u001b[0;34m(\u001b[0m\u001b[0mx\u001b[0m\u001b[0;34m,\u001b[0m\u001b[0my\u001b[0m\u001b[0;34m)\u001b[0m\u001b[0;34m[\u001b[0m\u001b[0;36m1\u001b[0m\u001b[0;34m]\u001b[0m\u001b[0;34m.\u001b[0m\u001b[0mround\u001b[0m\u001b[0;34m(\u001b[0m\u001b[0;34m)\u001b[0m\u001b[0;34m\u001b[0m\u001b[0;34m\u001b[0m\u001b[0m\n\u001b[0m",
      "\u001b[0;32m~/Downloads/enter/envs/jupyterlab/lib/python3.7/site-packages/sklearn/feature_selection/_univariate_selection.py\u001b[0m in \u001b[0;36mchi2\u001b[0;34m(X, y)\u001b[0m\n\u001b[1;32m    213\u001b[0m     \u001b[0mX\u001b[0m \u001b[0;34m=\u001b[0m \u001b[0mcheck_array\u001b[0m\u001b[0;34m(\u001b[0m\u001b[0mX\u001b[0m\u001b[0;34m,\u001b[0m \u001b[0maccept_sparse\u001b[0m\u001b[0;34m=\u001b[0m\u001b[0;34m\"csr\"\u001b[0m\u001b[0;34m)\u001b[0m\u001b[0;34m\u001b[0m\u001b[0;34m\u001b[0m\u001b[0m\n\u001b[1;32m    214\u001b[0m     \u001b[0;32mif\u001b[0m \u001b[0mnp\u001b[0m\u001b[0;34m.\u001b[0m\u001b[0many\u001b[0m\u001b[0;34m(\u001b[0m\u001b[0;34m(\u001b[0m\u001b[0mX\u001b[0m\u001b[0;34m.\u001b[0m\u001b[0mdata\u001b[0m \u001b[0;32mif\u001b[0m \u001b[0missparse\u001b[0m\u001b[0;34m(\u001b[0m\u001b[0mX\u001b[0m\u001b[0;34m)\u001b[0m \u001b[0;32melse\u001b[0m \u001b[0mX\u001b[0m\u001b[0;34m)\u001b[0m \u001b[0;34m<\u001b[0m \u001b[0;36m0\u001b[0m\u001b[0;34m)\u001b[0m\u001b[0;34m:\u001b[0m\u001b[0;34m\u001b[0m\u001b[0;34m\u001b[0m\u001b[0m\n\u001b[0;32m--> 215\u001b[0;31m         \u001b[0;32mraise\u001b[0m \u001b[0mValueError\u001b[0m\u001b[0;34m(\u001b[0m\u001b[0;34m\"Input X must be non-negative.\"\u001b[0m\u001b[0;34m)\u001b[0m\u001b[0;34m\u001b[0m\u001b[0;34m\u001b[0m\u001b[0m\n\u001b[0m\u001b[1;32m    216\u001b[0m \u001b[0;34m\u001b[0m\u001b[0m\n\u001b[1;32m    217\u001b[0m     \u001b[0mY\u001b[0m \u001b[0;34m=\u001b[0m \u001b[0mLabelBinarizer\u001b[0m\u001b[0;34m(\u001b[0m\u001b[0;34m)\u001b[0m\u001b[0;34m.\u001b[0m\u001b[0mfit_transform\u001b[0m\u001b[0;34m(\u001b[0m\u001b[0my\u001b[0m\u001b[0;34m)\u001b[0m\u001b[0;34m\u001b[0m\u001b[0;34m\u001b[0m\u001b[0m\n",
      "\u001b[0;31mValueError\u001b[0m: Input X must be non-negative."
     ]
    }
   ],
   "source": [
    "chi2(x,y)[1].round()"
   ]
  },
  {
   "cell_type": "code",
   "execution_count": 99,
   "id": "d3240947-984a-4bf2-ae4e-24909df08777",
   "metadata": {},
   "outputs": [],
   "source": [
    "from sklearn.preprocessing import StandardScaler"
   ]
  },
  {
   "cell_type": "code",
   "execution_count": 101,
   "id": "a720f6b3-4ffb-42a7-b5de-0178d504389e",
   "metadata": {},
   "outputs": [],
   "source": [
    "s=StandardScaler()\n",
    "x=s.fit_transform(x)"
   ]
  },
  {
   "cell_type": "code",
   "execution_count": 94,
   "id": "9e7e2193-5907-4a36-bfd7-6199a531a68b",
   "metadata": {},
   "outputs": [],
   "source": [
    "from sklearn.linear_model import SGDClassifier"
   ]
  },
  {
   "cell_type": "code",
   "execution_count": 95,
   "id": "dc6a5437-7b9e-4b2c-be1e-f06cedfce35e",
   "metadata": {},
   "outputs": [],
   "source": [
    "m=SGDClassifier(loss='log')"
   ]
  },
  {
   "cell_type": "code",
   "execution_count": 102,
   "id": "0539e530-9b2b-446a-a198-b867dfb5f6bc",
   "metadata": {},
   "outputs": [
    {
     "data": {
      "text/plain": [
       "SGDClassifier(loss='log')"
      ]
     },
     "execution_count": 102,
     "metadata": {},
     "output_type": "execute_result"
    }
   ],
   "source": [
    "m.fit(x,y)"
   ]
  },
  {
   "cell_type": "code",
   "execution_count": 103,
   "id": "b0a4a382-7881-4879-9e2e-076becb12a68",
   "metadata": {},
   "outputs": [
    {
     "data": {
      "text/plain": [
       "array([[-1.38065516,  3.49222621, -7.35994046, -7.27788832,  0.        ],\n",
       "       [-1.12364707, -6.58549808,  5.04702189, -4.11460737,  0.        ],\n",
       "       [-1.29003259, -7.82891723, 28.18058049, 23.20187546,  0.        ]])"
      ]
     },
     "execution_count": 103,
     "metadata": {},
     "output_type": "execute_result"
    }
   ],
   "source": [
    "m.coef_"
   ]
  },
  {
   "cell_type": "code",
   "execution_count": 62,
   "id": "117b422e-aa47-4c22-9e72-9cd37b012978",
   "metadata": {},
   "outputs": [
    {
     "data": {
      "text/plain": [
       "(150, 4)"
      ]
     },
     "execution_count": 62,
     "metadata": {},
     "output_type": "execute_result"
    }
   ],
   "source": [
    "x.shape"
   ]
  },
  {
   "cell_type": "code",
   "execution_count": 106,
   "id": "68a63cd9-f9bd-4d7d-a188-0620f3077c15",
   "metadata": {},
   "outputs": [],
   "source": [
    "from sklearn.decomposition import PCA"
   ]
  },
  {
   "cell_type": "code",
   "execution_count": 107,
   "id": "0b95d915-a59b-47ff-a8f2-cd225ed3decc",
   "metadata": {},
   "outputs": [
    {
     "ename": "NameError",
     "evalue": "name 'X_train_final' is not defined",
     "output_type": "error",
     "traceback": [
      "\u001b[0;31m---------------------------------------------------------------------------\u001b[0m",
      "\u001b[0;31mNameError\u001b[0m                                 Traceback (most recent call last)",
      "\u001b[0;32m/tmp/ipykernel_21140/854844178.py\u001b[0m in \u001b[0;36m<module>\u001b[0;34m\u001b[0m\n\u001b[1;32m      1\u001b[0m \u001b[0mm\u001b[0m\u001b[0;34m=\u001b[0m\u001b[0mPCA\u001b[0m\u001b[0;34m(\u001b[0m\u001b[0;34m)\u001b[0m\u001b[0;34m\u001b[0m\u001b[0;34m\u001b[0m\u001b[0m\n\u001b[0;32m----> 2\u001b[0;31m \u001b[0mm\u001b[0m\u001b[0;34m.\u001b[0m\u001b[0mfit_transform\u001b[0m\u001b[0;34m(\u001b[0m\u001b[0mX_train_final\u001b[0m\u001b[0;34m)\u001b[0m\u001b[0;34m\u001b[0m\u001b[0;34m\u001b[0m\u001b[0m\n\u001b[0m",
      "\u001b[0;31mNameError\u001b[0m: name 'X_train_final' is not defined"
     ]
    }
   ],
   "source": [
    "m=PCA()\n",
    "m.fit_transform(X_train_final)"
   ]
  },
  {
   "cell_type": "code",
   "execution_count": 1,
   "id": "9a13f4b3-8879-4aad-8366-4a5a0d4e9a71",
   "metadata": {},
   "outputs": [],
   "source": [
    "a=[1,2,3,4,54,5]"
   ]
  },
  {
   "cell_type": "code",
   "execution_count": 2,
   "id": "be6d5671-46c5-49bd-9c98-fe0daf61a9d5",
   "metadata": {},
   "outputs": [
    {
     "ename": "TypeError",
     "evalue": "list indices must be integers or slices, not tuple",
     "output_type": "error",
     "traceback": [
      "\u001b[0;31m---------------------------------------------------------------------------\u001b[0m",
      "\u001b[0;31mTypeError\u001b[0m                                 Traceback (most recent call last)",
      "\u001b[0;32m/tmp/ipykernel_103093/2747621439.py\u001b[0m in \u001b[0;36m<module>\u001b[0;34m\u001b[0m\n\u001b[0;32m----> 1\u001b[0;31m \u001b[0ma\u001b[0m\u001b[0;34m[\u001b[0m\u001b[0;34m:\u001b[0m\u001b[0;36m2\u001b[0m\u001b[0;34m,\u001b[0m \u001b[0;36m1\u001b[0m\u001b[0;34m:\u001b[0m\u001b[0;36m3\u001b[0m\u001b[0;34m]\u001b[0m\u001b[0;34m\u001b[0m\u001b[0;34m\u001b[0m\u001b[0m\n\u001b[0m",
      "\u001b[0;31mTypeError\u001b[0m: list indices must be integers or slices, not tuple"
     ]
    }
   ],
   "source": [
    "a[:2, 1:3]"
   ]
  },
  {
   "cell_type": "code",
   "execution_count": 8,
   "id": "8bf8381d-6f8a-4264-9f47-da4422aa69bc",
   "metadata": {},
   "outputs": [
    {
     "data": {
      "text/plain": [
       "array([[0., 0.],\n",
       "       [0., 0.]])"
      ]
     },
     "execution_count": 8,
     "metadata": {},
     "output_type": "execute_result"
    }
   ],
   "source": [
    "np.zeros((10,10))[:2, 1:3] "
   ]
  },
  {
   "cell_type": "code",
   "execution_count": 5,
   "id": "f8a2062d-1d78-4228-a7e9-b2ebc37034ec",
   "metadata": {},
   "outputs": [],
   "source": [
    "import numpy as np"
   ]
  },
  {
   "cell_type": "code",
   "execution_count": null,
   "id": "330c0615-1e07-4061-b837-b705ba3cb797",
   "metadata": {},
   "outputs": [],
   "source": [
    "#for categorical features\n",
    "def plot_categorical(data,feature):\n",
    "    plt.figure(figsize=(19,6))\n",
    "    ax=sns.countplot(data=data,x=feature,hue='high_risk_applicant',palette=['green',\"orange\"])\n",
    "    a = [p.get_height() for p in ax.patches]\n",
    "    #print(a)\n",
    "    patch = [p for p in ax.patches]\n",
    "    Number_of_categories=len(data[feature].value_counts())\n",
    "    right=a[:Number_of_categories]\n",
    "    left=a[Number_of_categories:]\n",
    "    for i in range(Number_of_categories):\n",
    "        total=right[i]+left[i]\n",
    "        for j in range(2):\n",
    "            if j==0:\n",
    "                 percentage =\"{}%\".format(np.round(right[i]*100/total,2))\n",
    "            else:\n",
    "                 percentage = \"{}%\".format(np.round(left[i]*100/total,2))\n",
    "            x = patch[(j*Number_of_categories + i)].get_x() + patch[(j*Number_of_categories + i)].get_width() / 2 - 0.15\n",
    "            y = patch[(j*Number_of_categories + i)].get_y() + patch[(j*Number_of_categories + i)].get_height() \n",
    "            ax.annotate(percentage, (x, y), size = 12)\n",
    "    plt.title(feature)\n",
    "    plt.show()"
   ]
  },
  {
   "cell_type": "code",
   "execution_count": 9,
   "id": "82bb0f83-b416-472c-a1c2-8c301dd2c1a5",
   "metadata": {},
   "outputs": [],
   "source": [
    "import pandas as pd"
   ]
  },
  {
   "cell_type": "code",
   "execution_count": null,
   "id": "44641166-5525-49d9-a842-a5921ff0d963",
   "metadata": {},
   "outputs": [],
   "source": [
    "categorical_features_enco=[['education', 'new vehicle', 'electronic equipment','business','used vehicle', 'repair costs', 'FF&E', 'career development','domestic appliances'],\n",
    "                           ['building society savings agreement/life insurance','real estate', 'car or other'],\n",
    "                           [0,1],\n",
    "                           [0,1],\n",
    "                           ['NaN', 'stores', 'bank'],\n",
    "                           ['existing loans paid back duly till now','critical/pending loans at other banks','all loans at this bank paid back duly','no loans taken/all loans paid back duly','delay in paying off loans in the past'],\n",
    "                           ['female', 'male'],\n",
    "                           ['divorced/separated/married', 'single', 'married/widowed','divorced/separated'],\n",
    "                           ['skilled employee / official', 'unskilled - resident','unemployed / unskilled - non-resident','management / self-employed / highly qualified employee / officer'],\n",
    "                           ['NaN', \"Registered under the applicant's name\"],\n",
    "                           [1, 0]\n",
    "                          ]"
   ]
  }
 ],
 "metadata": {
  "kernelspec": {
   "display_name": "Python [conda env:jupyterlab] *",
   "language": "python",
   "name": "conda-env-jupyterlab-py"
  },
  "language_info": {
   "codemirror_mode": {
    "name": "ipython",
    "version": 3
   },
   "file_extension": ".py",
   "mimetype": "text/x-python",
   "name": "python",
   "nbconvert_exporter": "python",
   "pygments_lexer": "ipython3",
   "version": "3.7.13"
  }
 },
 "nbformat": 4,
 "nbformat_minor": 5
}
