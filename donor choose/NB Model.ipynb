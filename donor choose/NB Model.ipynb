{
 "cells": [
  {
   "cell_type": "markdown",
   "metadata": {
    "id": "inzYCIaib3c3"
   },
   "source": [
    "<h1> Naive Bayes </h1>"
   ]
  },
  {
   "cell_type": "markdown",
   "metadata": {
    "id": "FYqCIxzFb3c5"
   },
   "source": [
    "## 1.1 Loading Data"
   ]
  },
  {
   "cell_type": "code",
   "execution_count": 90,
   "metadata": {
    "id": "dA1jknyqb3c_"
   },
   "outputs": [],
   "source": [
    "#make sure you are loading atleast 50k datapoints\n",
    "#you can work with features of preprocessed_data.csv for the assignment.\n",
    "# If you want to add more features, you can add. (This is purely optional, not mandatory)\n",
    "\n",
    "import pandas\n",
    "data = pandas.read_csv('/content/drive/MyDrive/appliedai/6_Donors_choose_NB/preprocessed_data.csv') "
   ]
  },
  {
   "cell_type": "code",
   "execution_count": 91,
   "metadata": {
    "colab": {
     "base_uri": "https://localhost:8080/",
     "height": 155
    },
    "id": "0RHZsc2LzN6w",
    "outputId": "9dab1500-1068-45eb-da41-ef373eda6898"
   },
   "outputs": [
    {
     "data": {
      "text/html": [
       "\n",
       "  <div id=\"df-e9e0013d-e614-4a2a-93e0-71e52dec64a4\">\n",
       "    <div class=\"colab-df-container\">\n",
       "      <div>\n",
       "<style scoped>\n",
       "    .dataframe tbody tr th:only-of-type {\n",
       "        vertical-align: middle;\n",
       "    }\n",
       "\n",
       "    .dataframe tbody tr th {\n",
       "        vertical-align: top;\n",
       "    }\n",
       "\n",
       "    .dataframe thead th {\n",
       "        text-align: right;\n",
       "    }\n",
       "</style>\n",
       "<table border=\"1\" class=\"dataframe\">\n",
       "  <thead>\n",
       "    <tr style=\"text-align: right;\">\n",
       "      <th></th>\n",
       "      <th>school_state</th>\n",
       "      <th>teacher_prefix</th>\n",
       "      <th>project_grade_category</th>\n",
       "      <th>teacher_number_of_previously_posted_projects</th>\n",
       "      <th>project_is_approved</th>\n",
       "      <th>clean_categories</th>\n",
       "      <th>clean_subcategories</th>\n",
       "      <th>essay</th>\n",
       "      <th>price</th>\n",
       "    </tr>\n",
       "  </thead>\n",
       "  <tbody>\n",
       "    <tr>\n",
       "      <th>0</th>\n",
       "      <td>ca</td>\n",
       "      <td>mrs</td>\n",
       "      <td>grades_prek_2</td>\n",
       "      <td>53</td>\n",
       "      <td>1</td>\n",
       "      <td>math_science</td>\n",
       "      <td>appliedsciences health_lifescience</td>\n",
       "      <td>i fortunate enough use fairy tale stem kits cl...</td>\n",
       "      <td>725.05</td>\n",
       "    </tr>\n",
       "    <tr>\n",
       "      <th>1</th>\n",
       "      <td>ut</td>\n",
       "      <td>ms</td>\n",
       "      <td>grades_3_5</td>\n",
       "      <td>4</td>\n",
       "      <td>1</td>\n",
       "      <td>specialneeds</td>\n",
       "      <td>specialneeds</td>\n",
       "      <td>imagine 8 9 years old you third grade classroo...</td>\n",
       "      <td>213.03</td>\n",
       "    </tr>\n",
       "  </tbody>\n",
       "</table>\n",
       "</div>\n",
       "      <button class=\"colab-df-convert\" onclick=\"convertToInteractive('df-e9e0013d-e614-4a2a-93e0-71e52dec64a4')\"\n",
       "              title=\"Convert this dataframe to an interactive table.\"\n",
       "              style=\"display:none;\">\n",
       "        \n",
       "  <svg xmlns=\"http://www.w3.org/2000/svg\" height=\"24px\"viewBox=\"0 0 24 24\"\n",
       "       width=\"24px\">\n",
       "    <path d=\"M0 0h24v24H0V0z\" fill=\"none\"/>\n",
       "    <path d=\"M18.56 5.44l.94 2.06.94-2.06 2.06-.94-2.06-.94-.94-2.06-.94 2.06-2.06.94zm-11 1L8.5 8.5l.94-2.06 2.06-.94-2.06-.94L8.5 2.5l-.94 2.06-2.06.94zm10 10l.94 2.06.94-2.06 2.06-.94-2.06-.94-.94-2.06-.94 2.06-2.06.94z\"/><path d=\"M17.41 7.96l-1.37-1.37c-.4-.4-.92-.59-1.43-.59-.52 0-1.04.2-1.43.59L10.3 9.45l-7.72 7.72c-.78.78-.78 2.05 0 2.83L4 21.41c.39.39.9.59 1.41.59.51 0 1.02-.2 1.41-.59l7.78-7.78 2.81-2.81c.8-.78.8-2.07 0-2.86zM5.41 20L4 18.59l7.72-7.72 1.47 1.35L5.41 20z\"/>\n",
       "  </svg>\n",
       "      </button>\n",
       "      \n",
       "  <style>\n",
       "    .colab-df-container {\n",
       "      display:flex;\n",
       "      flex-wrap:wrap;\n",
       "      gap: 12px;\n",
       "    }\n",
       "\n",
       "    .colab-df-convert {\n",
       "      background-color: #E8F0FE;\n",
       "      border: none;\n",
       "      border-radius: 50%;\n",
       "      cursor: pointer;\n",
       "      display: none;\n",
       "      fill: #1967D2;\n",
       "      height: 32px;\n",
       "      padding: 0 0 0 0;\n",
       "      width: 32px;\n",
       "    }\n",
       "\n",
       "    .colab-df-convert:hover {\n",
       "      background-color: #E2EBFA;\n",
       "      box-shadow: 0px 1px 2px rgba(60, 64, 67, 0.3), 0px 1px 3px 1px rgba(60, 64, 67, 0.15);\n",
       "      fill: #174EA6;\n",
       "    }\n",
       "\n",
       "    [theme=dark] .colab-df-convert {\n",
       "      background-color: #3B4455;\n",
       "      fill: #D2E3FC;\n",
       "    }\n",
       "\n",
       "    [theme=dark] .colab-df-convert:hover {\n",
       "      background-color: #434B5C;\n",
       "      box-shadow: 0px 1px 3px 1px rgba(0, 0, 0, 0.15);\n",
       "      filter: drop-shadow(0px 1px 2px rgba(0, 0, 0, 0.3));\n",
       "      fill: #FFFFFF;\n",
       "    }\n",
       "  </style>\n",
       "\n",
       "      <script>\n",
       "        const buttonEl =\n",
       "          document.querySelector('#df-e9e0013d-e614-4a2a-93e0-71e52dec64a4 button.colab-df-convert');\n",
       "        buttonEl.style.display =\n",
       "          google.colab.kernel.accessAllowed ? 'block' : 'none';\n",
       "\n",
       "        async function convertToInteractive(key) {\n",
       "          const element = document.querySelector('#df-e9e0013d-e614-4a2a-93e0-71e52dec64a4');\n",
       "          const dataTable =\n",
       "            await google.colab.kernel.invokeFunction('convertToInteractive',\n",
       "                                                     [key], {});\n",
       "          if (!dataTable) return;\n",
       "\n",
       "          const docLinkHtml = 'Like what you see? Visit the ' +\n",
       "            '<a target=\"_blank\" href=https://colab.research.google.com/notebooks/data_table.ipynb>data table notebook</a>'\n",
       "            + ' to learn more about interactive tables.';\n",
       "          element.innerHTML = '';\n",
       "          dataTable['output_type'] = 'display_data';\n",
       "          await google.colab.output.renderOutput(dataTable, element);\n",
       "          const docLink = document.createElement('div');\n",
       "          docLink.innerHTML = docLinkHtml;\n",
       "          element.appendChild(docLink);\n",
       "        }\n",
       "      </script>\n",
       "    </div>\n",
       "  </div>\n",
       "  "
      ],
      "text/plain": [
       "  school_state  ...   price\n",
       "0           ca  ...  725.05\n",
       "1           ut  ...  213.03\n",
       "\n",
       "[2 rows x 9 columns]"
      ]
     },
     "execution_count": 91,
     "metadata": {},
     "output_type": "execute_result"
    }
   ],
   "source": [
    "#head\n",
    "data.head(2)"
   ]
  },
  {
   "cell_type": "code",
   "execution_count": 92,
   "metadata": {
    "colab": {
     "base_uri": "https://localhost:8080/",
     "height": 0
    },
    "id": "kuwp9uLZ4hGZ",
    "outputId": "c57cf093-4bf9-4edb-a968-47dc4ddf6deb"
   },
   "outputs": [
    {
     "data": {
      "text/plain": [
       "(109248, 9)"
      ]
     },
     "execution_count": 92,
     "metadata": {},
     "output_type": "execute_result"
    }
   ],
   "source": [
    "data.shape  #shape"
   ]
  },
  {
   "cell_type": "code",
   "execution_count": 93,
   "metadata": {
    "colab": {
     "base_uri": "https://localhost:8080/",
     "height": 0
    },
    "id": "XUFbUsuB5Thu",
    "outputId": "8f936ec6-6fba-415d-c033-66e8c9b01fbf"
   },
   "outputs": [
    {
     "data": {
      "text/plain": [
       "school_state                                    0\n",
       "teacher_prefix                                  0\n",
       "project_grade_category                          0\n",
       "teacher_number_of_previously_posted_projects    0\n",
       "project_is_approved                             0\n",
       "clean_categories                                0\n",
       "clean_subcategories                             0\n",
       "essay                                           0\n",
       "price                                           0\n",
       "dtype: int64"
      ]
     },
     "execution_count": 93,
     "metadata": {},
     "output_type": "execute_result"
    }
   ],
   "source": [
    "data.isna().sum() # no null values"
   ]
  },
  {
   "cell_type": "code",
   "execution_count": 94,
   "metadata": {
    "colab": {
     "base_uri": "https://localhost:8080/",
     "height": 0
    },
    "id": "_I8pOKFtkWmq",
    "outputId": "e2e39b0c-d433-49a8-ccb3-a292137e2c02"
   },
   "outputs": [
    {
     "data": {
      "text/plain": [
       "1    92706\n",
       "0    16542\n",
       "Name: project_is_approved, dtype: int64"
      ]
     },
     "execution_count": 94,
     "metadata": {},
     "output_type": "execute_result"
    }
   ],
   "source": [
    "data['project_is_approved'].value_counts() #imbalanced data"
   ]
  },
  {
   "cell_type": "code",
   "execution_count": 95,
   "metadata": {
    "id": "il0QJIaYx_0h"
   },
   "outputs": [],
   "source": [
    "y_data=data.pop('project_is_approved') # dividing data into x_data,y_data\n",
    "x_data=data"
   ]
  },
  {
   "cell_type": "markdown",
   "metadata": {
    "id": "WtVV13Fyb3dH"
   },
   "source": [
    "<h2>1.2 Splitting data into Train and cross validation(or test): Stratified Sampling</h2>"
   ]
  },
  {
   "cell_type": "code",
   "execution_count": 97,
   "metadata": {
    "id": "i-PyprDNb3dI"
   },
   "outputs": [],
   "source": [
    "\n",
    "from sklearn.model_selection import train_test_split\n",
    "x_train,x_test,y_train,y_test=train_test_split(x_data,y_data,random_state=42,stratify=y_data)"
   ]
  },
  {
   "cell_type": "code",
   "execution_count": 98,
   "metadata": {
    "colab": {
     "base_uri": "https://localhost:8080/",
     "height": 0
    },
    "id": "HsluhZ1ivKvD",
    "outputId": "ec7c1ef6-ffaf-425f-c874-5a2bd192dea7"
   },
   "outputs": [
    {
     "data": {
      "text/plain": [
       "((81936, 8), (81936,))"
      ]
     },
     "execution_count": 98,
     "metadata": {},
     "output_type": "execute_result"
    }
   ],
   "source": [
    "x_train.shape,y_train.shape"
   ]
  },
  {
   "cell_type": "markdown",
   "metadata": {
    "id": "EnZwVNULb3dO"
   },
   "source": [
    "<h2>1.3 Make Data Model Ready: encoding essay, and project_title</h2>"
   ]
  },
  {
   "cell_type": "code",
   "execution_count": 99,
   "metadata": {
    "id": "-uHV98Z1Zxt1"
   },
   "outputs": [],
   "source": [
    "# Apply Bag of Words (BOW) vectorization on 'Preprocessed_Essay' \n",
    "# Apply Bag of Words (BOW) vectorization on 'Preprocessed_Title' (Optional)\n",
    "from sklearn.feature_extraction.text import CountVectorizer\n",
    "bow_vectorizer=CountVectorizer()\n",
    "bow_vectorizer.fit(x_train['essay'])\n",
    "train_essay=bow_vectorizer.transform(x_train['essay'])\n",
    "test_essay=bow_vectorizer.transform(x_test['essay'])"
   ]
  },
  {
   "cell_type": "code",
   "execution_count": 100,
   "metadata": {
    "colab": {
     "base_uri": "https://localhost:8080/",
     "height": 0
    },
    "id": "1PSkRqG8uEM1",
    "outputId": "4dcacd77-ca74-4546-beae-a157928647d0"
   },
   "outputs": [
    {
     "data": {
      "text/plain": [
       "((81936, 50440), (27312, 50440))"
      ]
     },
     "execution_count": 100,
     "metadata": {},
     "output_type": "execute_result"
    }
   ],
   "source": [
    "train_essay.shape,test_essay.shape"
   ]
  },
  {
   "cell_type": "code",
   "execution_count": 101,
   "metadata": {
    "id": "a-z2Wi3qZxt2"
   },
   "outputs": [],
   "source": [
    "# Apply TF-IDF vectorization on 'Preprocessed_Essay' \n",
    "# Apply TF-IDF vectorization on 'Preprocessed_Title' (Optional)\n",
    "from sklearn.feature_extraction.text import TfidfVectorizer\n",
    "tfidf_vectorizer=TfidfVectorizer()\n",
    "tfidf_vectorizer.fit(x_train['essay'])\n",
    "train_essay_tfidf=tfidf_vectorizer.transform(x_train['essay'])\n",
    "test_essay_tfidf=tfidf_vectorizer.transform(x_test['essay'])"
   ]
  },
  {
   "cell_type": "code",
   "execution_count": 102,
   "metadata": {
    "colab": {
     "base_uri": "https://localhost:8080/",
     "height": 0
    },
    "id": "8K6G3yOL0TMy",
    "outputId": "b2423b67-186f-4ab7-bdd3-52b62e6ec56e"
   },
   "outputs": [
    {
     "data": {
      "text/plain": [
       "(81936, 50440)"
      ]
     },
     "execution_count": 102,
     "metadata": {},
     "output_type": "execute_result"
    }
   ],
   "source": [
    "train_essay_tfidf.shape"
   ]
  },
  {
   "cell_type": "markdown",
   "metadata": {
    "id": "bGy86kgHb3dX"
   },
   "source": [
    "<h2>1.4 Make Data Model Ready: encoding numerical, categorical features</h2>"
   ]
  },
  {
   "cell_type": "code",
   "execution_count": 166,
   "metadata": {
    "id": "EfXkofX1b3da"
   },
   "outputs": [],
   "source": [
    "# Apply One-Hot Encoding on the categorical features either using OneHotEncoder() (or) CountVectorizer(binary=True)\n",
    "# Apply Normalization on the numerical features using Normalizer().\n"
   ]
  },
  {
   "cell_type": "code",
   "execution_count": 104,
   "metadata": {
    "id": "8kz5ZLYG1bMI"
   },
   "outputs": [],
   "source": [
    "#return transformed train and test\n",
    "def categorical_features(data,data1):\n",
    "  vectorizer=CountVectorizer(binary=True)\n",
    "  vectorizer.fit(data)\n",
    "  return vectorizer.transform(data),vectorizer.transform(data1)"
   ]
  },
  {
   "cell_type": "markdown",
   "metadata": {
    "id": "-vPR5L185oqd"
   },
   "source": [
    "teacher_prefix"
   ]
  },
  {
   "cell_type": "code",
   "execution_count": 105,
   "metadata": {
    "colab": {
     "base_uri": "https://localhost:8080/",
     "height": 0
    },
    "id": "ilcTwyjZ47m_",
    "outputId": "b8739eee-9cd9-487b-8155-16b16130c1af"
   },
   "outputs": [
    {
     "name": "stdout",
     "output_type": "stream",
     "text": [
      "After Vectorization shape\n",
      "(81936, 5) (27312, 5)\n"
     ]
    }
   ],
   "source": [
    "teacher_prefix_train,teacher_prefix_test=categorical_features(x_train['teacher_prefix'],x_test['teacher_prefix'])\n",
    "print('After Vectorization shape')\n",
    "print(teacher_prefix_train.shape,teacher_prefix_test.shape)"
   ]
  },
  {
   "cell_type": "markdown",
   "metadata": {
    "id": "6rh-cY7A5vfX"
   },
   "source": [
    "project_grade"
   ]
  },
  {
   "cell_type": "code",
   "execution_count": 106,
   "metadata": {
    "colab": {
     "base_uri": "https://localhost:8080/",
     "height": 0
    },
    "id": "U9Zqyc5X5oF2",
    "outputId": "abc0d206-59d5-414b-8f84-df5c96e25eca"
   },
   "outputs": [
    {
     "name": "stdout",
     "output_type": "stream",
     "text": [
      "After Vectorization shape\n",
      "(81936, 4) (27312, 4)\n"
     ]
    }
   ],
   "source": [
    "project_grade_category_train,project_grade_category_test=categorical_features(x_train['project_grade_category'],x_test['project_grade_category'])\n",
    "print('After Vectorization shape')\n",
    "print(project_grade_category_train.shape,project_grade_category_test.shape)"
   ]
  },
  {
   "cell_type": "markdown",
   "metadata": {
    "id": "HsVGeIF35-Ky"
   },
   "source": [
    "school_state"
   ]
  },
  {
   "cell_type": "code",
   "execution_count": 107,
   "metadata": {
    "colab": {
     "base_uri": "https://localhost:8080/",
     "height": 0
    },
    "id": "jHjp35OS6A0p",
    "outputId": "a22ebb1d-86c7-4342-f8a0-11836d59afbb"
   },
   "outputs": [
    {
     "name": "stdout",
     "output_type": "stream",
     "text": [
      "After Vectorization shape\n",
      "(81936, 51) (27312, 51)\n"
     ]
    }
   ],
   "source": [
    "school_state_train,school_state_test=categorical_features(x_train['school_state'],x_test['school_state'])\n",
    "print('After Vectorization shape')\n",
    "print(school_state_train.shape,school_state_test.shape)"
   ]
  },
  {
   "cell_type": "markdown",
   "metadata": {
    "id": "DzzpBjDG6WOk"
   },
   "source": [
    "clean_categories"
   ]
  },
  {
   "cell_type": "code",
   "execution_count": 108,
   "metadata": {
    "colab": {
     "base_uri": "https://localhost:8080/",
     "height": 0
    },
    "id": "nj3ZsBlV6bPt",
    "outputId": "39e2204e-30dd-4ab9-901d-9327deb02c7f"
   },
   "outputs": [
    {
     "name": "stdout",
     "output_type": "stream",
     "text": [
      "After Vectorization shape\n",
      "(81936, 9) (27312, 9)\n"
     ]
    }
   ],
   "source": [
    "clean_categories_train,clean_categories_test=categorical_features(x_train['clean_categories'],x_test['clean_categories'])\n",
    "print('After Vectorization shape')\n",
    "print(clean_categories_train.shape,clean_categories_test.shape)"
   ]
  },
  {
   "cell_type": "markdown",
   "metadata": {
    "id": "kh4JPVx26q8n"
   },
   "source": [
    "clean_subcategories"
   ]
  },
  {
   "cell_type": "code",
   "execution_count": 109,
   "metadata": {
    "colab": {
     "base_uri": "https://localhost:8080/",
     "height": 0
    },
    "id": "QJddgwET6m34",
    "outputId": "96187ed8-2277-4ee3-8edd-e1e81b12af85"
   },
   "outputs": [
    {
     "name": "stdout",
     "output_type": "stream",
     "text": [
      "After Vectorization shape\n",
      "(81936, 30) (27312, 30)\n"
     ]
    }
   ],
   "source": [
    "clean_subcategories_train,clean_subcategories_test=categorical_features(x_train['clean_subcategories'],x_test['clean_subcategories'])\n",
    "print('After Vectorization shape')\n",
    "print(clean_subcategories_train.shape,clean_subcategories_test.shape)"
   ]
  },
  {
   "cell_type": "markdown",
   "metadata": {
    "id": "88xPjNMa7EQc"
   },
   "source": [
    "**Numeric features**"
   ]
  },
  {
   "cell_type": "markdown",
   "metadata": {
    "id": "bO4bcREq7L9f"
   },
   "source": [
    " price"
   ]
  },
  {
   "cell_type": "code",
   "execution_count": 110,
   "metadata": {
    "id": "plNefiPH7ITT"
   },
   "outputs": [],
   "source": [
    "from sklearn.preprocessing import Normalizer\n",
    "norm=Normalizer()\n",
    "price_train=norm.fit_transform(x_train['price'].values.reshape(1,-1))\n",
    "price_test=norm.fit_transform(x_test['price'].values.reshape(1,-1))"
   ]
  },
  {
   "cell_type": "markdown",
   "metadata": {
    "id": "eFeZjvC_Xdxi"
   },
   "source": [
    "teacher_number_of_previously_posted_projects"
   ]
  },
  {
   "cell_type": "code",
   "execution_count": 111,
   "metadata": {
    "id": "Q3f3gnnYXezE"
   },
   "outputs": [],
   "source": [
    "from sklearn.preprocessing import Normalizer\n",
    "norm=Normalizer()\n",
    "teacher_number_of_previously_posted_projects_train=norm.fit_transform(x_train['teacher_number_of_previously_posted_projects'].values.reshape(1,-1))\n",
    "teacher_number_of_previously_posted_projects_test=norm.fit_transform(x_test['teacher_number_of_previously_posted_projects'].values.reshape(1,-1))"
   ]
  },
  {
   "cell_type": "markdown",
   "metadata": {
    "id": "vld2VZiHXLN9"
   },
   "source": []
  },
  {
   "cell_type": "code",
   "execution_count": 113,
   "metadata": {
    "id": "69Uli2IVaV5b"
   },
   "outputs": [],
   "source": [
    "#reshaping numerical features for hstack   \n",
    "price_train=price_train.reshape(-1,1)   #to one column\n",
    "teacher_number_of_previously_posted_projects_train=teacher_number_of_previously_posted_projects_train.reshape(-1,1)\n",
    "price_test=price_test.reshape(-1,1)\n",
    "teacher_number_of_previously_posted_projects_test=teacher_number_of_previously_posted_projects_test.reshape(-1,1)"
   ]
  },
  {
   "cell_type": "markdown",
   "metadata": {
    "id": "f1tDvR37avt-"
   },
   "source": [
    "set-1 categorical, numerical features + preprocessed_eassay (BOW)"
   ]
  },
  {
   "cell_type": "code",
   "execution_count": 114,
   "metadata": {
    "id": "kf_eyZapXtwk"
   },
   "outputs": [],
   "source": [
    "from scipy.sparse import hstack\n",
    "final_x_train_bow=hstack([teacher_prefix_train,project_grade_category_train,school_state_train,clean_categories_train,clean_subcategories_train,price_train,teacher_number_of_previously_posted_projects_train,train_essay])\n",
    "final_x_test_bow=hstack([teacher_prefix_test,project_grade_category_test,school_state_test,clean_categories_test,clean_subcategories_test,price_test,teacher_number_of_previously_posted_projects_test,test_essay])"
   ]
  },
  {
   "cell_type": "code",
   "execution_count": 115,
   "metadata": {
    "colab": {
     "base_uri": "https://localhost:8080/",
     "height": 0
    },
    "id": "TAS0FSg7adVW",
    "outputId": "75d51279-0108-4213-9953-2194b12df99f"
   },
   "outputs": [
    {
     "name": "stdout",
     "output_type": "stream",
     "text": [
      "final train categorical, numerical features + preprocessed_eassay (BOW) shape (81936, 50541)\n",
      "final test categorical, numerical features + preprocessed_eassay (BOW) shape (27312, 50541)\n"
     ]
    }
   ],
   "source": [
    "print('final train categorical, numerical features + preprocessed_eassay (BOW) shape {}'.format(final_x_train_bow.shape))\n",
    "print('final test categorical, numerical features + preprocessed_eassay (BOW) shape {}'.format(final_x_test_bow.shape))"
   ]
  },
  {
   "cell_type": "markdown",
   "metadata": {
    "id": "d6ojD3M8ME3-"
   },
   "source": [
    "Set 2: categorical, numerical features + preprocessed_eassay (TFIDF)"
   ]
  },
  {
   "cell_type": "code",
   "execution_count": 116,
   "metadata": {
    "id": "vjPx26PsLmuh"
   },
   "outputs": [],
   "source": [
    "final_x_train_tfidf=hstack([teacher_prefix_train,project_grade_category_train,school_state_train,clean_categories_train,clean_subcategories_train,price_train,teacher_number_of_previously_posted_projects_train,train_essay_tfidf])\n",
    "final_x_test_tfidf=hstack([teacher_prefix_test,project_grade_category_test,school_state_test,clean_categories_test,clean_subcategories_test,price_test,teacher_number_of_previously_posted_projects_test,test_essay_tfidf])"
   ]
  },
  {
   "cell_type": "code",
   "execution_count": 117,
   "metadata": {
    "colab": {
     "base_uri": "https://localhost:8080/",
     "height": 0
    },
    "id": "TJbmbab2Lz48",
    "outputId": "443e2fe2-9d1a-4d5c-c6b2-3946436d0f9c"
   },
   "outputs": [
    {
     "name": "stdout",
     "output_type": "stream",
     "text": [
      "final train categorical, numerical features + preprocessed_eassay (TFIDF) shape (81936, 50541)\n",
      "final test categorical, numerical features + preprocessed_eassay (TFIDF) shape (27312, 50541)\n"
     ]
    }
   ],
   "source": [
    "print('final train categorical, numerical features + preprocessed_eassay (TFIDF) shape {}'.format(final_x_train_tfidf.shape))\n",
    "print('final test categorical, numerical features + preprocessed_eassay (TFIDF) shape {}'.format(final_x_test_tfidf.shape))"
   ]
  },
  {
   "cell_type": "markdown",
   "metadata": {
    "id": "yYHPYadYb3dh"
   },
   "source": [
    "<h2> Appling NB on different kind of featurization</h2>\n"
   ]
  },
  {
   "cell_type": "markdown",
   "metadata": {
    "id": "DNwqilFxb3di"
   },
   "source": [
    "#### Set 1"
   ]
  },
  {
   "cell_type": "code",
   "execution_count": 118,
   "metadata": {
    "colab": {
     "base_uri": "https://localhost:8080/",
     "height": 0
    },
    "id": "3pN4CdzSZxt3",
    "outputId": "b7a3ff0f-2813-4f8e-eb31-c3da0720e92d"
   },
   "outputs": [
    {
     "data": {
      "text/plain": [
       "GridSearchCV(cv=10, error_score=True,\n",
       "             estimator=MultinomialNB(class_prior=[0.5, 0.5]), n_jobs=-1,\n",
       "             param_grid={'alpha': [1e-05, 0.0005, 0.0001, 0.005, 0.001, 0.05,\n",
       "                                   0.01, 0.1, 0.5, 1, 5, 10, 50, 100]},\n",
       "             return_train_score=True, scoring='roc_auc')"
      ]
     },
     "execution_count": 118,
     "metadata": {},
     "output_type": "execute_result"
    }
   ],
   "source": [
    "# Perform Hyperparameter Tuning.\n",
    "# Plot the training and the CV AUC scores, for different values of 'alpha', using a 2D line plot\n",
    "import pandas as pd\n",
    "from sklearn.naive_bayes import MultinomialNB\n",
    "from sklearn.model_selection import GridSearchCV\n",
    "a={'alpha':[0.00001,0.0005, 0.0001,0.005,0.001,0.05,0.01,0.1,0.5,1,5,10,50,100]}\n",
    "clf =GridSearchCV(MultinomialNB(class_prior=[0.5,0.5]),a,cv=10,n_jobs=-1,scoring='roc_auc',error_score=True,return_train_score=True)\n",
    "clf.fit(final_x_train_bow,y_train)"
   ]
  },
  {
   "cell_type": "code",
   "execution_count": 119,
   "metadata": {
    "id": "PKx4ExiUk1X5"
   },
   "outputs": [],
   "source": [
    "results = pd.DataFrame.from_dict(clf.cv_results_)\n",
    "results = results.sort_values(['param_alpha']) #sorting results to increasing order of alphas"
   ]
  },
  {
   "cell_type": "code",
   "execution_count": 120,
   "metadata": {
    "id": "wX3nOR4mk1U1"
   },
   "outputs": [],
   "source": [
    "train_auc=results['mean_train_score']\n",
    "test_auc=results['mean_test_score']\n",
    "alphas=results['param_alpha']"
   ]
  },
  {
   "cell_type": "code",
   "execution_count": 121,
   "metadata": {
    "id": "glv5TPyhk1Rp"
   },
   "outputs": [],
   "source": [
    "import matplotlib.pyplot as plt\n",
    "import math\n",
    "import numpy as np"
   ]
  },
  {
   "cell_type": "code",
   "execution_count": 122,
   "metadata": {
    "colab": {
     "base_uri": "https://localhost:8080/",
     "height": 295
    },
    "id": "qDuXdVj7nNbR",
    "outputId": "25b55ced-f73d-43fb-c3e8-acac95f7fed4"
   },
   "outputs": [
    {
     "data": {
      "image/png": "[encoded data removed]",
      "text/plain": [
       "<Figure size 432x288 with 1 Axes>"
      ]
     },
     "metadata": {
      "needs_background": "light"
     },
     "output_type": "display_data"
    }
   ],
   "source": [
    "log_alphas=list(map(lambda x : math.log(x),alphas))\n",
    "plt.plot(log_alphas,train_auc,label='train_AUC')\n",
    "plt.plot(log_alphas,test_auc,label='val_AUC')\n",
    "plt.xlabel('log(alpha)')\n",
    "plt.ylabel('AUC score')\n",
    "plt.title('log(Alpha) vs AUC')\n",
    "plt.legend()\n",
    "plt.grid()\n",
    "plt.show()"
   ]
  },
  {
   "cell_type": "code",
   "execution_count": 123,
   "metadata": {
    "colab": {
     "base_uri": "https://localhost:8080/",
     "height": 0
    },
    "id": "VVPcackYzX4L",
    "outputId": "b447dab0-e9fa-4c9f-caba-a0a5dd9476da"
   },
   "outputs": [
    {
     "data": {
      "text/plain": [
       "{'alpha': 0.5}"
      ]
     },
     "execution_count": 123,
     "metadata": {},
     "output_type": "execute_result"
    }
   ],
   "source": [
    "clf.best_params_"
   ]
  },
  {
   "cell_type": "code",
   "execution_count": 124,
   "metadata": {
    "colab": {
     "base_uri": "https://localhost:8080/",
     "height": 0
    },
    "id": "FBsLiYi_Zxt4",
    "outputId": "91db374c-5f06-4397-bd29-b669c0377b5e"
   },
   "outputs": [
    {
     "data": {
      "text/plain": [
       "MultinomialNB(alpha=0.5, class_prior=[0.5, 0.5])"
      ]
     },
     "execution_count": 124,
     "metadata": {},
     "output_type": "execute_result"
    }
   ],
   "source": [
    "# Obtain the optimal value for 'alpha' and using the obtained optimal 'alpha' value, fit a multinomial naive bayes model, on the train data,\n",
    "# Note: If you have split the datase into 3 parts (ie., train, cv and test sets) in the beginning, then the training datafor this final model would be (train set + cv set)\n",
    "# Make class label and probability predictions on the train and test data.\n",
    "model=MultinomialNB(class_prior=[0.5,0.5],alpha=0.5)\n",
    "model.fit(final_x_train_bow,y_train)\n"
   ]
  },
  {
   "cell_type": "code",
   "execution_count": 125,
   "metadata": {
    "id": "rGYEvA_e2MXV"
   },
   "outputs": [],
   "source": [
    "train_prob=model.predict_proba(final_x_train_bow)\n",
    "test_prob=model.predict_proba(final_x_test_bow)"
   ]
  },
  {
   "cell_type": "code",
   "execution_count": 126,
   "metadata": {
    "id": "JxEI_J0W5NGq"
   },
   "outputs": [],
   "source": [
    "train_prob=np.array(list(map(lambda x : x[1],train_prob)))  #predict prob has probabalitity for 0 and 1 ,so taking only 1 probabality \n",
    "test_prob=np.array(list(map(lambda x:x[1],test_prob)))"
   ]
  },
  {
   "cell_type": "code",
   "execution_count": 127,
   "metadata": {
    "colab": {
     "base_uri": "https://localhost:8080/",
     "height": 0
    },
    "id": "tafh1lvM622Y",
    "outputId": "99886099-d52c-416c-8c7b-82c19a85ef5c"
   },
   "outputs": [
    {
     "data": {
      "text/plain": [
       "(81936,)"
      ]
     },
     "execution_count": 127,
     "metadata": {},
     "output_type": "execute_result"
    }
   ],
   "source": [
    "train_prob.shape"
   ]
  },
  {
   "cell_type": "code",
   "execution_count": 128,
   "metadata": {
    "id": "OM4hiDJsZxt4"
   },
   "outputs": [],
   "source": [
    "# Plot the ROC-AUC curves using the probability predictions made on train and test data.\n",
    "from sklearn.metrics import roc_curve,auc\n",
    "fpr_train,tpr_train,thresholds_train=roc_curve(y_train,train_prob)\n",
    "fpr_test,tpr_test,thresholds_test=roc_curve(y_test,test_prob)"
   ]
  },
  {
   "cell_type": "code",
   "execution_count": 129,
   "metadata": {
    "colab": {
     "base_uri": "https://localhost:8080/",
     "height": 295
    },
    "id": "2isnSOg-7Qsl",
    "outputId": "1f366a3d-33e3-451c-ae7e-c9b99af91717"
   },
   "outputs": [
    {
     "data": {
      "image/png": "[encoded data removed]",
      "text/plain": [
       "<Figure size 432x288 with 1 Axes>"
      ]
     },
     "metadata": {
      "needs_background": "light"
     },
     "output_type": "display_data"
    }
   ],
   "source": [
    "plt.plot(fpr_train,tpr_train,label='train auc {}'.format(auc(fpr_train,tpr_train)))\n",
    "plt.plot(fpr_test,tpr_test,label='test auc {}'.format(auc(fpr_test,tpr_test)))\n",
    "plt.legend()\n",
    "plt.xlabel('fpr')\n",
    "plt.ylabel('tpr')\n",
    "plt.title('roc_curve')\n",
    "plt.grid()\n",
    "plt.show()"
   ]
  },
  {
   "cell_type": "code",
   "execution_count": 130,
   "metadata": {
    "id": "4iHA3OZnZxt4"
   },
   "outputs": [],
   "source": [
    "# Pick the best threshold among the probability estimates, such that it has to yield maximum value for TPR*(1-FPR)\n",
    "# Plot the confusion matrices(each for train and test data) afer encoding the predicted class labels, on the basis of the best threshod probability estimate.\n",
    "def find_best_threshold(threshould, fpr, tpr):\n",
    "    t = threshould[np.argmax(tpr*(1-fpr))]\n",
    "    # (tpr*(1-fpr)) will be maximum if your fpr is very low and tpr is very high\n",
    "    print(\"the maximum value of tpr*(1-fpr)\", max(tpr*(1-fpr)), \"for threshold\", np.round(t,3))\n",
    "    return t\n",
    "def predict_with_best_t(proba, threshould):\n",
    "    predictions = []\n",
    "    for i in proba:\n",
    "        if i>=threshould:\n",
    "            predictions.append(1)\n",
    "        else:\n",
    "            predictions.append(0)\n",
    "    return predictions"
   ]
  },
  {
   "cell_type": "code",
   "execution_count": 131,
   "metadata": {
    "colab": {
     "base_uri": "https://localhost:8080/",
     "height": 0
    },
    "id": "vAL0a3egAgMO",
    "outputId": "2b4fc55c-1f05-46ac-9b0e-112ac620de66"
   },
   "outputs": [
    {
     "name": "stdout",
     "output_type": "stream",
     "text": [
      "the maximum value of tpr*(1-fpr) 0.5389619424625753 for threshold 0.548\n"
     ]
    }
   ],
   "source": [
    "best_t_train=find_best_threshold(thresholds_train,fpr_train,tpr_train)"
   ]
  },
  {
   "cell_type": "code",
   "execution_count": 132,
   "metadata": {
    "id": "Wdu9Lj1vB7oL"
   },
   "outputs": [],
   "source": [
    "after_best_t_train=predict_with_best_t(train_prob,best_t_train)"
   ]
  },
  {
   "cell_type": "code",
   "execution_count": 133,
   "metadata": {
    "id": "mtLP632bBlMi"
   },
   "outputs": [],
   "source": [
    "from sklearn.metrics import confusion_matrix\n",
    "cm=confusion_matrix(y_train,after_best_t_train)"
   ]
  },
  {
   "cell_type": "code",
   "execution_count": 134,
   "metadata": {
    "colab": {
     "base_uri": "https://localhost:8080/",
     "height": 281
    },
    "id": "rhVuF4A_GHvE",
    "outputId": "3764a625-25b6-4fef-e4f3-bbbedbd737bc"
   },
   "outputs": [
    {
     "data": {
      "image/png": "[encoded data removed]",
      "text/plain": [
       "<Figure size 432x288 with 2 Axes>"
      ]
     },
     "metadata": {
      "needs_background": "light"
     },
     "output_type": "display_data"
    }
   ],
   "source": [
    "import seaborn as sns\n",
    "import matplotlib.pyplot as plt     \n",
    "sns.heatmap(cm, annot=True,fmt=\"d\",cmap='Greens')\n",
    "plt.title('Confusion matrix for train')\n",
    "plt.show()"
   ]
  },
  {
   "cell_type": "code",
   "execution_count": 135,
   "metadata": {
    "colab": {
     "base_uri": "https://localhost:8080/",
     "height": 0
    },
    "id": "U4KFfNuAwYkj",
    "outputId": "7eb9ec9e-230b-4650-97af-1e706cf49d2f"
   },
   "outputs": [
    {
     "data": {
      "text/plain": [
       "0.5484401129171619"
      ]
     },
     "execution_count": 135,
     "metadata": {},
     "output_type": "execute_result"
    }
   ],
   "source": [
    "best_t_train"
   ]
  },
  {
   "cell_type": "code",
   "execution_count": 136,
   "metadata": {
    "colab": {
     "base_uri": "https://localhost:8080/",
     "height": 281
    },
    "id": "5on6sSYbsRiM",
    "outputId": "187cfc39-b55c-4b74-d68f-54f8107d5ea7"
   },
   "outputs": [
    {
     "data": {
      "image/png": "[encoded data removed]",
      "text/plain": [
       "<Figure size 432x288 with 2 Axes>"
      ]
     },
     "metadata": {
      "needs_background": "light"
     },
     "output_type": "display_data"
    }
   ],
   "source": [
    "#best_t_test=find_best_threshold(thresholds_test,fpr_test,tpr_test)\n",
    "after_best_t_test=predict_with_best_t(test_prob,best_t_train)  #best thresholds\n",
    "cm1=confusion_matrix(y_test,after_best_t_test)\n",
    "sns.heatmap(cm1,annot=True,fmt='d',cmap='Blues')\n",
    "plt.title('Confusion matrix for test')\n",
    "plt.show()"
   ]
  },
  {
   "cell_type": "markdown",
   "metadata": {
    "id": "vwOGVP4FZxt5"
   },
   "source": [
    "#### Set 2"
   ]
  },
  {
   "cell_type": "markdown",
   "metadata": {
    "id": "l92J-Dn-LYI7"
   },
   "source": [
    "Set 2: categorical, numerical features + preprocessed_eassay (TFIDF)"
   ]
  },
  {
   "cell_type": "code",
   "execution_count": 139,
   "metadata": {
    "colab": {
     "base_uri": "https://localhost:8080/",
     "height": 0
    },
    "id": "l8z8zIi-LPgQ",
    "outputId": "5752108d-d3ef-488d-94e0-6b23613dd539"
   },
   "outputs": [
    {
     "data": {
      "text/plain": [
       "GridSearchCV(cv=10, error_score=True,\n",
       "             estimator=MultinomialNB(class_prior=[0.5, 0.5]), n_jobs=-1,\n",
       "             param_grid={'alpha': [1e-05, 0.0005, 0.0001, 0.005, 0.001, 0.05,\n",
       "                                   0.01, 0.1, 0.5, 1, 5, 10, 50, 100]},\n",
       "             return_train_score=True, scoring='roc_auc')"
      ]
     },
     "execution_count": 139,
     "metadata": {},
     "output_type": "execute_result"
    }
   ],
   "source": [
    "# Perform Hyperparameter Tuning.\n",
    "# Plot the training and the CV AUC scores, for different values of 'alpha', using a 2D line plot\n",
    "import pandas as pd\n",
    "from sklearn.naive_bayes import MultinomialNB\n",
    "from sklearn.model_selection import GridSearchCV\n",
    "a={'alpha':[0.00001,0.0005, 0.0001,0.005,0.001,0.05,0.01,0.1,0.5,1,5,10,50,100]}\n",
    "clf =GridSearchCV(MultinomialNB(class_prior=[0.5,0.5]),a,cv=10,n_jobs=-1,scoring='roc_auc',error_score=True,return_train_score=True)\n",
    "clf.fit(final_x_train_tfidf,y_train)"
   ]
  },
  {
   "cell_type": "code",
   "execution_count": 140,
   "metadata": {
    "id": "fVaYXQ-yLPgR"
   },
   "outputs": [],
   "source": [
    "results = pd.DataFrame.from_dict(clf.cv_results_)\n",
    "results = results.sort_values(['param_alpha'])"
   ]
  },
  {
   "cell_type": "code",
   "execution_count": 141,
   "metadata": {
    "id": "7IxmXwygLPgR"
   },
   "outputs": [],
   "source": [
    "train_auc=results['mean_train_score']\n",
    "test_auc=results['mean_test_score']\n",
    "alphas=results['param_alpha']"
   ]
  },
  {
   "cell_type": "code",
   "execution_count": 142,
   "metadata": {
    "id": "hn7fjx2OLPgS"
   },
   "outputs": [],
   "source": [
    "import matplotlib.pyplot as plt\n",
    "import math"
   ]
  },
  {
   "cell_type": "code",
   "execution_count": 143,
   "metadata": {
    "colab": {
     "base_uri": "https://localhost:8080/",
     "height": 295
    },
    "id": "4f5yBy88LPgS",
    "outputId": "7b779ac1-e4d0-4f18-f56c-7e6f60150250"
   },
   "outputs": [
    {
     "data": {
      "image/png": "[encoded data removed]",
      "text/plain": [
       "<Figure size 432x288 with 1 Axes>"
      ]
     },
     "metadata": {
      "needs_background": "light"
     },
     "output_type": "display_data"
    }
   ],
   "source": [
    "log_alphas=list(map(lambda x : math.log(x),alphas))\n",
    "plt.plot(log_alphas,train_auc,label='train_AUC')\n",
    "plt.plot(log_alphas,test_auc,label='val_AUC')\n",
    "plt.xlabel('log(alpha)')\n",
    "plt.ylabel('AUC score')\n",
    "plt.title('log(Alpha) vs AUC')\n",
    "plt.legend()\n",
    "plt.grid()\n",
    "plt.show()"
   ]
  },
  {
   "cell_type": "code",
   "execution_count": 144,
   "metadata": {
    "colab": {
     "base_uri": "https://localhost:8080/",
     "height": 0
    },
    "id": "OtyeMx-1LPgS",
    "outputId": "d4d32fab-57db-4925-da74-a78466a5ab0c"
   },
   "outputs": [
    {
     "data": {
      "text/plain": [
       "{'alpha': 0.05}"
      ]
     },
     "execution_count": 144,
     "metadata": {},
     "output_type": "execute_result"
    }
   ],
   "source": [
    "clf.best_params_"
   ]
  },
  {
   "cell_type": "code",
   "execution_count": 145,
   "metadata": {
    "colab": {
     "base_uri": "https://localhost:8080/",
     "height": 0
    },
    "id": "uwLC-tbQLPgT",
    "outputId": "bcba2e1f-cf2d-417b-a779-66e7e369e7ab"
   },
   "outputs": [
    {
     "data": {
      "text/plain": [
       "MultinomialNB(alpha=0.05, class_prior=[0.5, 0.5])"
      ]
     },
     "execution_count": 145,
     "metadata": {},
     "output_type": "execute_result"
    }
   ],
   "source": [
    "\n",
    "model=MultinomialNB(class_prior=[0.5,0.5],alpha=0.05)\n",
    "model.fit(final_x_train_tfidf,y_train)\n"
   ]
  },
  {
   "cell_type": "code",
   "execution_count": 146,
   "metadata": {
    "id": "tHmZq7T6LPgT"
   },
   "outputs": [],
   "source": [
    "train_prob=model.predict_proba(final_x_train_tfidf)\n",
    "test_prob=model.predict_proba(final_x_test_tfidf)"
   ]
  },
  {
   "cell_type": "code",
   "execution_count": 147,
   "metadata": {
    "id": "hGHoS-LYLPgT"
   },
   "outputs": [],
   "source": [
    "train_prob=np.array(list(map(lambda x : x[1],train_prob)))\n",
    "test_prob=np.array(list(map(lambda x:x[1],test_prob)))"
   ]
  },
  {
   "cell_type": "code",
   "execution_count": 148,
   "metadata": {
    "colab": {
     "base_uri": "https://localhost:8080/",
     "height": 0
    },
    "id": "QT31qICeLPgU",
    "outputId": "e348889d-c8f1-4fff-93c6-237558a8c580"
   },
   "outputs": [
    {
     "data": {
      "text/plain": [
       "(81936,)"
      ]
     },
     "execution_count": 148,
     "metadata": {},
     "output_type": "execute_result"
    }
   ],
   "source": [
    "train_prob.shape"
   ]
  },
  {
   "cell_type": "code",
   "execution_count": 149,
   "metadata": {
    "id": "uz2DEJ7FLPgU"
   },
   "outputs": [],
   "source": [
    "# Plot the ROC-AUC curves using the probability predictions made on train and test data.\n",
    "from sklearn.metrics import roc_curve,auc\n",
    "fpr_train,tpr_train,thresholds_train=roc_curve(y_train,train_prob)\n",
    "fpr_test,tpr_test,thresholds_test=roc_curve(y_test,test_prob)"
   ]
  },
  {
   "cell_type": "code",
   "execution_count": 150,
   "metadata": {
    "colab": {
     "base_uri": "https://localhost:8080/",
     "height": 295
    },
    "id": "SecE9iXALPgU",
    "outputId": "3c9ca591-0975-44db-b282-edff7939dd2f"
   },
   "outputs": [
    {
     "data": {
      "image/png": "[encoded data removed]",
      "text/plain": [
       "<Figure size 432x288 with 1 Axes>"
      ]
     },
     "metadata": {
      "needs_background": "light"
     },
     "output_type": "display_data"
    }
   ],
   "source": [
    "plt.plot(fpr_train,tpr_train,label='train auc {}'.format(auc(fpr_train,tpr_train)))\n",
    "plt.plot(fpr_test,tpr_test,label='test auc {}'.format(auc(fpr_test,tpr_test)))\n",
    "plt.legend()\n",
    "plt.xlabel('fpr')\n",
    "plt.ylabel('tpr')\n",
    "plt.title('roc_curve')\n",
    "plt.grid()\n",
    "plt.show()"
   ]
  },
  {
   "cell_type": "code",
   "execution_count": 151,
   "metadata": {
    "id": "loSjb68DLPgU"
   },
   "outputs": [],
   "source": [
    "# Pick the best threshold among the probability estimates, such that it has to yield maximum value for TPR*(1-FPR)\n",
    "# Plot the confusion matrices(each for train and test data) afer encoding the predicted class labels, on the basis of the best threshod probability estimate.\n",
    "def find_best_threshold(threshould, fpr, tpr):\n",
    "    t = threshould[np.argmax(tpr*(1-fpr))]\n",
    "    # (tpr*(1-fpr)) will be maximum if your fpr is very low and tpr is very high\n",
    "    print(\"the maximum value of tpr*(1-fpr)\", max(tpr*(1-fpr)), \"for threshold\", np.round(t,3))\n",
    "    return t\n",
    "def predict_with_best_t(proba, threshould):\n",
    "    predictions = []\n",
    "    for i in proba:\n",
    "        if i>=threshould:\n",
    "            predictions.append(1)\n",
    "        else:\n",
    "            predictions.append(0)\n",
    "    return predictions"
   ]
  },
  {
   "cell_type": "code",
   "execution_count": 152,
   "metadata": {
    "colab": {
     "base_uri": "https://localhost:8080/",
     "height": 0
    },
    "id": "YJHOo1OdLPgV",
    "outputId": "852659cf-f9ee-41b1-b4ec-c9fde1f74f0d"
   },
   "outputs": [
    {
     "name": "stdout",
     "output_type": "stream",
     "text": [
      "the maximum value of tpr*(1-fpr) 0.5487712006774766 for threshold 0.511\n"
     ]
    }
   ],
   "source": [
    "best_t_train=find_best_threshold(thresholds_train,fpr_train,tpr_train)"
   ]
  },
  {
   "cell_type": "code",
   "execution_count": 153,
   "metadata": {
    "id": "SqwEMk6_LPgV"
   },
   "outputs": [],
   "source": [
    "after_best_t_train=predict_with_best_t(train_prob,best_t_train)"
   ]
  },
  {
   "cell_type": "code",
   "execution_count": 154,
   "metadata": {
    "id": "0pEtrBHSLPgV"
   },
   "outputs": [],
   "source": [
    "from sklearn.metrics import confusion_matrix\n",
    "cm=confusion_matrix(y_train,after_best_t_train)"
   ]
  },
  {
   "cell_type": "code",
   "execution_count": 155,
   "metadata": {
    "colab": {
     "base_uri": "https://localhost:8080/",
     "height": 281
    },
    "id": "VS5K3tTmLPgV",
    "outputId": "1b7c5fd8-ec38-4bdb-f125-c29abc5ee7ec"
   },
   "outputs": [
    {
     "data": {
      "image/png": "[encoded data removed]",
      "text/plain": [
       "<Figure size 432x288 with 2 Axes>"
      ]
     },
     "metadata": {
      "needs_background": "light"
     },
     "output_type": "display_data"
    }
   ],
   "source": [
    "import seaborn as sns\n",
    "import matplotlib.pyplot as plt     \n",
    "\n",
    "sns.heatmap(cm, annot=True,fmt=\"d\",cmap='Greens')\n",
    "plt.title('Confusion matrix for train')\n",
    "plt.show()"
   ]
  },
  {
   "cell_type": "code",
   "execution_count": 167,
   "metadata": {
    "colab": {
     "base_uri": "https://localhost:8080/",
     "height": 281
    },
    "id": "4S7i8Ffrxi-Z",
    "outputId": "9d5cc7ac-d7a0-426f-d055-f632191e5e8a"
   },
   "outputs": [
    {
     "data": {
      "image/png": "[encoded data removed]",
      "text/plain": [
       "<Figure size 432x288 with 2 Axes>"
      ]
     },
     "metadata": {
      "needs_background": "light"
     },
     "output_type": "display_data"
    }
   ],
   "source": [
    "#best_t_test=find_best_threshold(thresholds_test,fpr_test,tpr_test)\n",
    "after_best_t_test=predict_with_best_t(test_prob,best_t_train) #best threshold\n",
    "cm1=confusion_matrix(y_test,after_best_t_test)\n",
    "sns.heatmap(cm1,annot=True,fmt='d',cmap='Blues')\n",
    "plt.title('Confusion matrix for test')\n",
    "plt.show()"
   ]
  },
  {
   "cell_type": "markdown",
   "metadata": {
    "id": "woQiEHY79E84"
   },
   "source": [
    "# Top 20 features"
   ]
  },
  {
   "cell_type": "code",
   "execution_count": 157,
   "metadata": {
    "colab": {
     "base_uri": "https://localhost:8080/",
     "height": 0
    },
    "id": "mL2_Fkv_rEWZ",
    "outputId": "a65159e8-b4af-4c5b-f882-2090fd80b7ad"
   },
   "outputs": [
    {
     "name": "stderr",
     "output_type": "stream",
     "text": [
      "/usr/local/lib/python3.7/dist-packages/sklearn/utils/deprecation.py:87: FutureWarning: Function get_feature_names is deprecated; get_feature_names is deprecated in 1.0 and will be removed in 1.2. Please use get_feature_names_out instead.\n",
      "  warnings.warn(msg, category=FutureWarning)\n"
     ]
    }
   ],
   "source": [
    "#ALL features\n",
    "l=[]\n",
    "vec=CountVectorizer(binary=True)\n",
    "vec.fit(x_train['teacher_prefix'])\n",
    "l.extend(vec.get_feature_names())\n",
    "vec=CountVectorizer(binary=True)\n",
    "vec.fit(x_train['project_grade_category'])\n",
    "l.extend(vec.get_feature_names())\n",
    "vec=CountVectorizer(binary=True)\n",
    "vec.fit(x_train['school_state'])\n",
    "l.extend(vec.get_feature_names())\n",
    "vec=CountVectorizer(binary=True)\n",
    "vec.fit(x_train['clean_categories'])\n",
    "l.extend(vec.get_feature_names())\n",
    "vec=CountVectorizer(binary=True)\n",
    "vec.fit(x_train['clean_subcategories'])\n",
    "l.extend(vec.get_feature_names())\n",
    "l.extend(['price'])\n",
    "l.extend(['teacher_number_of_previously_posted_projects'])\n",
    "l.extend(bow_vectorizer.get_feature_names())\n",
    "#l.extend(tfidf_vectorizer.get_feature_names())"
   ]
  },
  {
   "cell_type": "code",
   "execution_count": 158,
   "metadata": {
    "id": "MoGpR8qAZxt6"
   },
   "outputs": [],
   "source": [
    "# Either from set 1 (or) set 2, print the names of the top 20 features associated with the positive and negative classes each. (You have to print the names of the features, but not the indexes)\n",
    "negitive_class=np.argsort(model.feature_log_prob_[0])\n",
    "positive_class=np.argsort(model.feature_log_prob_[1])"
   ]
  },
  {
   "cell_type": "code",
   "execution_count": 159,
   "metadata": {
    "colab": {
     "base_uri": "https://localhost:8080/",
     "height": 0
    },
    "id": "xtaf4rDHy9ke",
    "outputId": "f3e5d9a0-cffe-4b8f-895b-f26843483b82"
   },
   "outputs": [
    {
     "name": "stdout",
     "output_type": "stream",
     "text": [
      "top 20 negative features are : \n",
      "['mrs' 'literacy_language' 'grades_prek_2' 'math_science' 'ms'\n",
      " 'grades_3_5' 'mathematics' 'literacy' 'literature_writing' 'grades_6_8'\n",
      " 'specialneeds' 'specialneeds' 'health_sports' 'ca' 'students'\n",
      " 'appliedlearning' 'appliedsciences' 'grades_9_12' 'mr']\n"
     ]
    }
   ],
   "source": [
    "l=np.array(l)\n",
    "print(\"top 20 negative features are : \\n{}\".format(l[negitive_class[-1:-20:-1]]))"
   ]
  },
  {
   "cell_type": "code",
   "execution_count": 160,
   "metadata": {
    "colab": {
     "base_uri": "https://localhost:8080/",
     "height": 0
    },
    "id": "KfzqzgtptEmM",
    "outputId": "c2b5f7f8-2dfc-44a0-8493-6f16aa9cf12b"
   },
   "outputs": [
    {
     "name": "stdout",
     "output_type": "stream",
     "text": [
      "top 20 positive features are : \n",
      "['mrs' 'literacy_language' 'grades_prek_2' 'math_science' 'ms'\n",
      " 'grades_3_5' 'literacy' 'mathematics' 'literature_writing' 'grades_6_8'\n",
      " 'ca' 'health_sports' 'students' 'specialneeds' 'specialneeds'\n",
      " 'appliedlearning' 'grades_9_12' 'mr' 'appliedsciences']\n"
     ]
    }
   ],
   "source": [
    "print(\"top 20 positive features are : \\n{}\".format(l[positive_class[-1:-20:-1]]))"
   ]
  },
  {
   "cell_type": "markdown",
   "metadata": {
    "id": "lS9hIHdib3dp"
   },
   "source": [
    "<h1>3. Summary</h1>"
   ]
  },
  {
   "cell_type": "code",
   "execution_count": 164,
   "metadata": {
    "id": "Cwk28aOLZxt6"
   },
   "outputs": [],
   "source": [
    "\n",
    "from prettytable import PrettyTable\n",
    "x = PrettyTable()\n",
    "x.field_names=['vectorizer','hyper parameter','AUC']\n",
    "x.add_row(['bow',0.05,0.71])\n",
    "x.add_row(['Tfidf',0.05,0.68])"
   ]
  },
  {
   "cell_type": "code",
   "execution_count": 165,
   "metadata": {
    "colab": {
     "base_uri": "https://localhost:8080/",
     "height": 0
    },
    "id": "cfvdTG_i2_Ay",
    "outputId": "427aad55-c18b-4f06-96d3-0df696e62560"
   },
   "outputs": [
    {
     "name": "stdout",
     "output_type": "stream",
     "text": [
      "+------------+-----------------+------+\n",
      "| vectorizer | hyper parameter | AUC  |\n",
      "+------------+-----------------+------+\n",
      "|    bow     |       0.05      | 0.71 |\n",
      "|   Tfidf    |       0.05      | 0.68 |\n",
      "+------------+-----------------+------+\n"
     ]
    }
   ],
   "source": [
    "print(x)"
   ]
  },
  {
   "cell_type": "code",
   "execution_count": 162,
   "metadata": {
    "id": "BTyr3rFW5-Gb"
   },
   "outputs": [],
   "source": []
  }
 ],
 "metadata": {
  "colab": {
   "collapsed_sections": [],
   "name": "Copy of NB_Assignment_instructions.ipynb",
   "provenance": []
  },
  "kernelspec": {
   "display_name": "Python 3 (ipykernel)",
   "language": "python",
   "name": "python3"
  },
  "language_info": {
   "codemirror_mode": {
    "name": "ipython",
    "version": 3
   },
   "file_extension": ".py",
   "mimetype": "text/x-python",
   "name": "python",
   "nbconvert_exporter": "python",
   "pygments_lexer": "ipython3",
   "version": "3.7.6"
  }
 },
 "nbformat": 4,
 "nbformat_minor": 1
}
